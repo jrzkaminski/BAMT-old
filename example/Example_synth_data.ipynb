{
 "metadata": {
  "language_info": {
   "codemirror_mode": {
    "name": "ipython",
    "version": 3
   },
   "file_extension": ".py",
   "mimetype": "text/x-python",
   "name": "python",
   "nbconvert_exporter": "python",
   "pygments_lexer": "ipython3",
   "version": "3.8.8"
  },
  "orig_nbformat": 2,
  "kernelspec": {
   "name": "python388jvsc74a57bd00110e3ad3d2995649b9eed0505b86961f21d80e4cfa55b9dc2096312fa84aa23",
   "display_name": "Python 3.8.8 64-bit"
  },
  "metadata": {
   "interpreter": {
    "hash": "0110e3ad3d2995649b9eed0505b86961f21d80e4cfa55b9dc2096312fa84aa23"
   }
  }
 },
 "nbformat": 4,
 "nbformat_minor": 2,
 "cells": [
  {
   "source": [
    "## Import the necessary libraries and packages"
   ],
   "cell_type": "markdown",
   "metadata": {}
  },
  {
   "cell_type": "code",
   "execution_count": 1,
   "metadata": {},
   "outputs": [],
   "source": [
    "import os,sys,inspect\n",
    "currentdir = os.path.dirname(os.path.abspath(inspect.getfile(inspect.currentframe())))\n",
    "parentdir = os.path.dirname(currentdir)\n",
    "sys.path.insert(0,parentdir)"
   ]
  },
  {
   "cell_type": "code",
   "execution_count": 2,
   "metadata": {},
   "outputs": [],
   "source": [
    "import pandas as pd\n",
    "from preprocess.discretization import discretization, get_nodes_type, code_categories, get_nodes_sign\n",
    "from bayesian.train_bn import structure_learning, parameter_learning\n",
    "from block_learning.partial_bn_train import connect_partial_bn, hierarchical_train, direct_connect, direct_train, range_pairs\n",
    "import seaborn as sns\n",
    "import numpy as np\n",
    "from copy import  copy\n",
    "import time\n",
    "import matplotlib.pyplot as plt\n",
    "from sklearn.preprocessing import StandardScaler, MinMaxScaler\n",
    "from bayesian.save_bn import save_structure, save_params, read_structure, read_params\n",
    "from bayesian.sampling import generate_synthetics\n",
    "from external.libpgm.hybayesiannetwork import HyBayesianNetwork\n",
    "from visualization.visualization import draw_BN, draw_comparative_hist\n",
    "import networkx as nx\n",
    "from pomegranate import log_probability, BayesianNetwork\n",
    "from external.libpgm.sampleaggregator import SampleAggregator\n",
    "import operator"
   ]
  },
  {
   "source": [
    "Load the necessary data.  \n",
    "The data was collected from the social network VKontakte using an open API.  \n",
    "The variables are the following: \n",
    "## Socio-demographic data \n",
    "`age`  \n",
    "`sex`  \n",
    "`city_id` - city code  \n",
    "`has_high_education`  \n",
    "`relation` - marital status  \n",
    "`num_of_relatives` - number of relatives  \n",
    "...\n",
    "\n",
    "## Information about interests  \n",
    "`top1_interes` \n",
    "`top2_interes` \n",
    "`top3_interes` \n",
    "...\n",
    "\n",
    "## Finance information\n",
    "`max_tr` - maximum size of transaction  \n",
    "`mean_tr`  \n",
    "`cash_usage` \n",
    "..."
   ],
   "cell_type": "markdown",
   "metadata": {}
  },
  {
   "cell_type": "code",
   "execution_count": 3,
   "metadata": {},
   "outputs": [
    {
     "output_type": "execute_result",
     "data": {
      "text/plain": [
       "   sex   age  city_id  has_high_education  relation  num_of_relatives  \\\n",
       "0    1  50.0        2                   0         0                 2   \n",
       "1    2  36.0        2                   0         0                 2   \n",
       "2    1  65.0        2                   0         0                 2   \n",
       "3    2  30.0        2                   0         0                 2   \n",
       "4    2  36.0        2                   0         0                 2   \n",
       "5    2  22.0        2                   1         0                10   \n",
       "6    2  23.0        2                   0         0                 2   \n",
       "7    1  27.0        2                   0         0                 2   \n",
       "8    2  25.0        2                   0         0                 2   \n",
       "9    2  35.0        2                   0         0                 2   \n",
       "\n",
       "   followers_count  status  mobile_phone  twitter  ...  \\\n",
       "0               27       0             0        0  ...   \n",
       "1                6       0             0        0  ...   \n",
       "2               25       0             0        0  ...   \n",
       "3               52       0             1        0  ...   \n",
       "4               18       0             0        0  ...   \n",
       "5              167       0             0        0  ...   \n",
       "6              275       1             0        0  ...   \n",
       "7              475       0             0        0  ...   \n",
       "8               37       0             0        0  ...   \n",
       "9               41       0             0        0  ...   \n",
       "\n",
       "   car, cars, sale, tires  sale, clothes, size, price, sewing  \\\n",
       "0                0.201622                        3.397819e-02   \n",
       "1                0.060985                        2.529792e-02   \n",
       "2                0.000009                        2.007164e-09   \n",
       "3                0.143803                        5.324164e-03   \n",
       "4                0.037360                        4.527913e-02   \n",
       "5                0.025479                        1.996316e-02   \n",
       "6                0.073340                        1.916149e-02   \n",
       "7                0.005444                        5.542228e-02   \n",
       "8                0.052164                        1.516378e-02   \n",
       "9                0.056157                        5.284686e-02   \n",
       "\n",
       "   ingredients, cooking, dishes, salt, spices theater, performance, actors  \\\n",
       "0                                    0.003674                     0.308135   \n",
       "1                                    0.020964                     0.011533   \n",
       "2                                    0.100547                     0.001567   \n",
       "3                                    0.027627                     0.014820   \n",
       "4                                    0.087596                     0.043889   \n",
       "5                                    0.010990                     0.033827   \n",
       "6                                    0.007811                     0.019288   \n",
       "7                                    0.099362                     0.061058   \n",
       "8                                    0.001627                     0.020647   \n",
       "9                                    0.011395                     0.032997   \n",
       "\n",
       "   photographer, photography, show, wedding, photographer  \\\n",
       "0                                           0.010700        \n",
       "1                                           0.003497        \n",
       "2                                           0.049170        \n",
       "3                                           0.019036        \n",
       "4                                           0.072074        \n",
       "5                                           0.035163        \n",
       "6                                           0.023399        \n",
       "7                                           0.041686        \n",
       "8                                           0.021668        \n",
       "9                                           0.020119        \n",
       "\n",
       "                                   top1_interes  \\\n",
       "0                  theater, performance, actors   \n",
       "1     book, reading, language, word, literature   \n",
       "2  client, project, internet, business, company   \n",
       "3                  war, history, army, politics   \n",
       "4    home, renovation, decoration, installation   \n",
       "5     music, concerts, rock, tickets, festivals   \n",
       "6                   film, series, cinema, genre   \n",
       "7                   film, series, cinema, genre   \n",
       "8     music, concerts, rock, tickets, festivals   \n",
       "9    home, renovation, decoration, installation   \n",
       "\n",
       "                                   top2_interes  \\\n",
       "0                        car, cars, sale, tires   \n",
       "1     music, concerts, rock, tickets, festivals   \n",
       "2                 skin, face, care, cosmitology   \n",
       "3                        car, cars, sale, tires   \n",
       "4    ingredients, cooking, dishes, salt, spices   \n",
       "5  client, project, internet, business, company   \n",
       "6                        car, cars, sale, tires   \n",
       "7    ingredients, cooking, dishes, salt, spices   \n",
       "8                   film, series, cinema, genre   \n",
       "9                  war, history, army, politics   \n",
       "\n",
       "                                 top3_interes  \\\n",
       "0         participation, festival, exhibition   \n",
       "1          school, education, question, topic   \n",
       "2  ingredients, cooking, dishes, salt, spices   \n",
       "3                 film, series, cinema, genre   \n",
       "4              game, team, competition, sport   \n",
       "5          school, education, question, topic   \n",
       "6              game, team, competition, sport   \n",
       "7         participation, festival, exhibition   \n",
       "8              game, team, competition, sport   \n",
       "9         participation, festival, exhibition   \n",
       "\n",
       "                                   top4_interes  \\\n",
       "0  client, project, internet, business, company   \n",
       "1  client, project, internet, business, company   \n",
       "2     treatment, doctors, tests, clinic, health   \n",
       "3     music, concerts, rock, tickets, festivals   \n",
       "4                     massage, meditation, yoga   \n",
       "5           participation, festival, exhibition   \n",
       "6           participation, festival, exhibition   \n",
       "7                  dress, fashion, color, style   \n",
       "8                 beauty, hair, manicure, salon   \n",
       "9                   film, series, cinema, genre   \n",
       "\n",
       "                                        top5_interes  \n",
       "0         home, renovation, decoration, installation  \n",
       "1                       war, history, army, politics  \n",
       "2  photographer, photography, show, wedding, phot...  \n",
       "3          football, match, russia, team, goalkeeper  \n",
       "4                       shop, price, gifts, internet  \n",
       "5                        film, series, cinema, genre  \n",
       "6          music, concerts, rock, tickets, festivals  \n",
       "7          book, reading, language, word, literature  \n",
       "8                 vacation, sea, accommodation, cost  \n",
       "9                             car, cars, sale, tires  \n",
       "\n",
       "[10 rows x 81 columns]"
      ],
      "text/html": "<div>\n<style scoped>\n    .dataframe tbody tr th:only-of-type {\n        vertical-align: middle;\n    }\n\n    .dataframe tbody tr th {\n        vertical-align: top;\n    }\n\n    .dataframe thead th {\n        text-align: right;\n    }\n</style>\n<table border=\"1\" class=\"dataframe\">\n  <thead>\n    <tr style=\"text-align: right;\">\n      <th></th>\n      <th>sex</th>\n      <th>age</th>\n      <th>city_id</th>\n      <th>has_high_education</th>\n      <th>relation</th>\n      <th>num_of_relatives</th>\n      <th>followers_count</th>\n      <th>status</th>\n      <th>mobile_phone</th>\n      <th>twitter</th>\n      <th>...</th>\n      <th>car, cars, sale, tires</th>\n      <th>sale, clothes, size, price, sewing</th>\n      <th>ingredients, cooking, dishes, salt, spices</th>\n      <th>theater, performance, actors</th>\n      <th>photographer, photography, show, wedding, photographer</th>\n      <th>top1_interes</th>\n      <th>top2_interes</th>\n      <th>top3_interes</th>\n      <th>top4_interes</th>\n      <th>top5_interes</th>\n    </tr>\n  </thead>\n  <tbody>\n    <tr>\n      <th>0</th>\n      <td>1</td>\n      <td>50.0</td>\n      <td>2</td>\n      <td>0</td>\n      <td>0</td>\n      <td>2</td>\n      <td>27</td>\n      <td>0</td>\n      <td>0</td>\n      <td>0</td>\n      <td>...</td>\n      <td>0.201622</td>\n      <td>3.397819e-02</td>\n      <td>0.003674</td>\n      <td>0.308135</td>\n      <td>0.010700</td>\n      <td>theater, performance, actors</td>\n      <td>car, cars, sale, tires</td>\n      <td>participation, festival, exhibition</td>\n      <td>client, project, internet, business, company</td>\n      <td>home, renovation, decoration, installation</td>\n    </tr>\n    <tr>\n      <th>1</th>\n      <td>2</td>\n      <td>36.0</td>\n      <td>2</td>\n      <td>0</td>\n      <td>0</td>\n      <td>2</td>\n      <td>6</td>\n      <td>0</td>\n      <td>0</td>\n      <td>0</td>\n      <td>...</td>\n      <td>0.060985</td>\n      <td>2.529792e-02</td>\n      <td>0.020964</td>\n      <td>0.011533</td>\n      <td>0.003497</td>\n      <td>book, reading, language, word, literature</td>\n      <td>music, concerts, rock, tickets, festivals</td>\n      <td>school, education, question, topic</td>\n      <td>client, project, internet, business, company</td>\n      <td>war, history, army, politics</td>\n    </tr>\n    <tr>\n      <th>2</th>\n      <td>1</td>\n      <td>65.0</td>\n      <td>2</td>\n      <td>0</td>\n      <td>0</td>\n      <td>2</td>\n      <td>25</td>\n      <td>0</td>\n      <td>0</td>\n      <td>0</td>\n      <td>...</td>\n      <td>0.000009</td>\n      <td>2.007164e-09</td>\n      <td>0.100547</td>\n      <td>0.001567</td>\n      <td>0.049170</td>\n      <td>client, project, internet, business, company</td>\n      <td>skin, face, care, cosmitology</td>\n      <td>ingredients, cooking, dishes, salt, spices</td>\n      <td>treatment, doctors, tests, clinic, health</td>\n      <td>photographer, photography, show, wedding, phot...</td>\n    </tr>\n    <tr>\n      <th>3</th>\n      <td>2</td>\n      <td>30.0</td>\n      <td>2</td>\n      <td>0</td>\n      <td>0</td>\n      <td>2</td>\n      <td>52</td>\n      <td>0</td>\n      <td>1</td>\n      <td>0</td>\n      <td>...</td>\n      <td>0.143803</td>\n      <td>5.324164e-03</td>\n      <td>0.027627</td>\n      <td>0.014820</td>\n      <td>0.019036</td>\n      <td>war, history, army, politics</td>\n      <td>car, cars, sale, tires</td>\n      <td>film, series, cinema, genre</td>\n      <td>music, concerts, rock, tickets, festivals</td>\n      <td>football, match, russia, team, goalkeeper</td>\n    </tr>\n    <tr>\n      <th>4</th>\n      <td>2</td>\n      <td>36.0</td>\n      <td>2</td>\n      <td>0</td>\n      <td>0</td>\n      <td>2</td>\n      <td>18</td>\n      <td>0</td>\n      <td>0</td>\n      <td>0</td>\n      <td>...</td>\n      <td>0.037360</td>\n      <td>4.527913e-02</td>\n      <td>0.087596</td>\n      <td>0.043889</td>\n      <td>0.072074</td>\n      <td>home, renovation, decoration, installation</td>\n      <td>ingredients, cooking, dishes, salt, spices</td>\n      <td>game, team, competition, sport</td>\n      <td>massage, meditation, yoga</td>\n      <td>shop, price, gifts, internet</td>\n    </tr>\n    <tr>\n      <th>5</th>\n      <td>2</td>\n      <td>22.0</td>\n      <td>2</td>\n      <td>1</td>\n      <td>0</td>\n      <td>10</td>\n      <td>167</td>\n      <td>0</td>\n      <td>0</td>\n      <td>0</td>\n      <td>...</td>\n      <td>0.025479</td>\n      <td>1.996316e-02</td>\n      <td>0.010990</td>\n      <td>0.033827</td>\n      <td>0.035163</td>\n      <td>music, concerts, rock, tickets, festivals</td>\n      <td>client, project, internet, business, company</td>\n      <td>school, education, question, topic</td>\n      <td>participation, festival, exhibition</td>\n      <td>film, series, cinema, genre</td>\n    </tr>\n    <tr>\n      <th>6</th>\n      <td>2</td>\n      <td>23.0</td>\n      <td>2</td>\n      <td>0</td>\n      <td>0</td>\n      <td>2</td>\n      <td>275</td>\n      <td>1</td>\n      <td>0</td>\n      <td>0</td>\n      <td>...</td>\n      <td>0.073340</td>\n      <td>1.916149e-02</td>\n      <td>0.007811</td>\n      <td>0.019288</td>\n      <td>0.023399</td>\n      <td>film, series, cinema, genre</td>\n      <td>car, cars, sale, tires</td>\n      <td>game, team, competition, sport</td>\n      <td>participation, festival, exhibition</td>\n      <td>music, concerts, rock, tickets, festivals</td>\n    </tr>\n    <tr>\n      <th>7</th>\n      <td>1</td>\n      <td>27.0</td>\n      <td>2</td>\n      <td>0</td>\n      <td>0</td>\n      <td>2</td>\n      <td>475</td>\n      <td>0</td>\n      <td>0</td>\n      <td>0</td>\n      <td>...</td>\n      <td>0.005444</td>\n      <td>5.542228e-02</td>\n      <td>0.099362</td>\n      <td>0.061058</td>\n      <td>0.041686</td>\n      <td>film, series, cinema, genre</td>\n      <td>ingredients, cooking, dishes, salt, spices</td>\n      <td>participation, festival, exhibition</td>\n      <td>dress, fashion, color, style</td>\n      <td>book, reading, language, word, literature</td>\n    </tr>\n    <tr>\n      <th>8</th>\n      <td>2</td>\n      <td>25.0</td>\n      <td>2</td>\n      <td>0</td>\n      <td>0</td>\n      <td>2</td>\n      <td>37</td>\n      <td>0</td>\n      <td>0</td>\n      <td>0</td>\n      <td>...</td>\n      <td>0.052164</td>\n      <td>1.516378e-02</td>\n      <td>0.001627</td>\n      <td>0.020647</td>\n      <td>0.021668</td>\n      <td>music, concerts, rock, tickets, festivals</td>\n      <td>film, series, cinema, genre</td>\n      <td>game, team, competition, sport</td>\n      <td>beauty, hair, manicure, salon</td>\n      <td>vacation, sea, accommodation, cost</td>\n    </tr>\n    <tr>\n      <th>9</th>\n      <td>2</td>\n      <td>35.0</td>\n      <td>2</td>\n      <td>0</td>\n      <td>0</td>\n      <td>2</td>\n      <td>41</td>\n      <td>0</td>\n      <td>0</td>\n      <td>0</td>\n      <td>...</td>\n      <td>0.056157</td>\n      <td>5.284686e-02</td>\n      <td>0.011395</td>\n      <td>0.032997</td>\n      <td>0.020119</td>\n      <td>home, renovation, decoration, installation</td>\n      <td>war, history, army, politics</td>\n      <td>participation, festival, exhibition</td>\n      <td>film, series, cinema, genre</td>\n      <td>car, cars, sale, tires</td>\n    </tr>\n  </tbody>\n</table>\n<p>10 rows × 81 columns</p>\n</div>"
     },
     "metadata": {},
     "execution_count": 3
    }
   ],
   "source": [
    "vk_data = pd.read_csv('../data/vk_data.csv')\n",
    "vk_data.head(10)"
   ]
  },
  {
   "cell_type": "code",
   "execution_count": 5,
   "metadata": {},
   "outputs": [
    {
     "output_type": "execute_result",
     "data": {
      "text/plain": [
       "{'sex': 'disc',\n",
       " 'age': 'cont',\n",
       " 'city_id': 'disc',\n",
       " 'has_high_education': 'disc',\n",
       " 'relation': 'disc',\n",
       " 'num_of_relatives': 'disc',\n",
       " 'followers_count': 'disc',\n",
       " 'status': 'disc',\n",
       " 'mobile_phone': 'disc',\n",
       " 'twitter': 'disc',\n",
       " 'facebook': 'disc',\n",
       " 'instagram': 'disc',\n",
       " 'about': 'disc',\n",
       " 'about_topic': 'disc',\n",
       " 'activities': 'disc',\n",
       " 'activities_topic': 'disc',\n",
       " 'books': 'disc',\n",
       " 'interests': 'disc',\n",
       " 'interests_topic': 'disc',\n",
       " 'movies': 'disc',\n",
       " 'music': 'disc',\n",
       " 'quotes': 'disc',\n",
       " 'personal_alcohol': 'disc',\n",
       " 'personal_life_main': 'disc',\n",
       " 'personal_people_main': 'disc',\n",
       " 'personal_political': 'disc',\n",
       " 'HLength': 'cont',\n",
       " 'max_tr': 'cont',\n",
       " 'min_tr': 'cont',\n",
       " 'mean_tr': 'cont',\n",
       " 'median_tr': 'cont',\n",
       " '90_perc': 'cont',\n",
       " 'sum_am': 'cont',\n",
       " 'tr_per_month': 'cont',\n",
       " 'cash_sum': 'cont',\n",
       " 'cash_usage': 'disc',\n",
       " 'top1': 'disc',\n",
       " 'top1_mean': 'cont',\n",
       " 'top2': 'disc',\n",
       " 'top2_mean': 'cont',\n",
       " 'top3': 'disc',\n",
       " 'top3_mean': 'cont',\n",
       " 'game_sum': 'cont',\n",
       " 'is_gamer': 'disc',\n",
       " 'parent_sum': 'cont',\n",
       " 'is_parent': 'disc',\n",
       " 'driver_sum': 'cont',\n",
       " 'is_driver': 'disc',\n",
       " 'pets_sum': 'cont',\n",
       " 'has_pets': 'disc',\n",
       " 'dress, fashion, color, style': 'cont',\n",
       " 'massage, meditation, yoga': 'cont',\n",
       " 'game, team, competition, sport': 'cont',\n",
       " 'color, flowers, interior, design': 'cont',\n",
       " 'iphone, apple, technology, equipment, smartphone': 'cont',\n",
       " 'client, project, internet, business, company': 'cont',\n",
       " 'war, history, army, politics': 'cont',\n",
       " 'beauty, hair, manicure, salon': 'cont',\n",
       " 'handmade, materials, products': 'cont',\n",
       " 'work, schedule, earnings, money': 'cont',\n",
       " 'music, concerts, rock, tickets, festivals': 'cont',\n",
       " 'treatment, doctors, tests, clinic, health': 'cont',\n",
       " 'school, education, question, topic': 'cont',\n",
       " 'skin, face, care, cosmitology': 'cont',\n",
       " 'book, reading, language, word, literature': 'cont',\n",
       " 'participation, festival, exhibition': 'cont',\n",
       " 'vacation, sea, accommodation, cost': 'cont',\n",
       " 'shop, price, gifts, internet': 'cont',\n",
       " 'home, renovation, decoration, installation': 'cont',\n",
       " 'film, series, cinema, genre': 'cont',\n",
       " 'football, match, russia, team, goalkeeper': 'cont',\n",
       " 'car, cars, sale, tires': 'cont',\n",
       " 'sale, clothes, size, price, sewing': 'cont',\n",
       " 'ingredients, cooking, dishes, salt, spices': 'cont',\n",
       " 'theater, performance, actors': 'cont',\n",
       " 'photographer, photography, show, wedding, photographer': 'cont',\n",
       " 'top1_interes': 'disc',\n",
       " 'top2_interes': 'disc',\n",
       " 'top3_interes': 'disc',\n",
       " 'top4_interes': 'disc',\n",
       " 'top5_interes': 'disc'}"
      ]
     },
     "metadata": {},
     "execution_count": 5
    }
   ],
   "source": [
    "node_types = get_nodes_type(vk_data)\n",
    "node_types"
   ]
  },
  {
   "cell_type": "code",
   "execution_count": 6,
   "metadata": {},
   "outputs": [
    {
     "output_type": "execute_result",
     "data": {
      "text/plain": [
       "{'age': 'pos',\n",
       " 'HLength': 'pos',\n",
       " 'max_tr': 'pos',\n",
       " 'min_tr': 'pos',\n",
       " 'mean_tr': 'pos',\n",
       " 'median_tr': 'pos',\n",
       " '90_perc': 'pos',\n",
       " 'sum_am': 'pos',\n",
       " 'tr_per_month': 'pos',\n",
       " 'cash_sum': 'pos',\n",
       " 'top1_mean': 'pos',\n",
       " 'top2_mean': 'pos',\n",
       " 'top3_mean': 'pos',\n",
       " 'game_sum': 'pos',\n",
       " 'parent_sum': 'pos',\n",
       " 'driver_sum': 'pos',\n",
       " 'pets_sum': 'pos',\n",
       " 'dress, fashion, color, style': 'pos',\n",
       " 'massage, meditation, yoga': 'pos',\n",
       " 'game, team, competition, sport': 'pos',\n",
       " 'color, flowers, interior, design': 'pos',\n",
       " 'iphone, apple, technology, equipment, smartphone': 'pos',\n",
       " 'client, project, internet, business, company': 'pos',\n",
       " 'war, history, army, politics': 'pos',\n",
       " 'beauty, hair, manicure, salon': 'pos',\n",
       " 'handmade, materials, products': 'pos',\n",
       " 'work, schedule, earnings, money': 'pos',\n",
       " 'music, concerts, rock, tickets, festivals': 'pos',\n",
       " 'treatment, doctors, tests, clinic, health': 'pos',\n",
       " 'school, education, question, topic': 'pos',\n",
       " 'skin, face, care, cosmitology': 'pos',\n",
       " 'book, reading, language, word, literature': 'pos',\n",
       " 'participation, festival, exhibition': 'pos',\n",
       " 'vacation, sea, accommodation, cost': 'pos',\n",
       " 'shop, price, gifts, internet': 'pos',\n",
       " 'home, renovation, decoration, installation': 'pos',\n",
       " 'film, series, cinema, genre': 'pos',\n",
       " 'football, match, russia, team, goalkeeper': 'pos',\n",
       " 'car, cars, sale, tires': 'pos',\n",
       " 'sale, clothes, size, price, sewing': 'pos',\n",
       " 'ingredients, cooking, dishes, salt, spices': 'pos',\n",
       " 'theater, performance, actors': 'pos',\n",
       " 'photographer, photography, show, wedding, photographer': 'pos'}"
      ]
     },
     "metadata": {},
     "execution_count": 6
    }
   ],
   "source": [
    "nodes_sign = get_nodes_sign(vk_data)\n",
    "nodes_sign"
   ]
  },
  {
   "cell_type": "code",
   "execution_count": 5,
   "metadata": {},
   "outputs": [],
   "source": [
    "data = vk_data[['age',\t'sex',\t'has_high_education',\t'relation',\t'num_of_relatives','about',\t'activities',\t'books',\t'interests',\t'movies','top1_interes','top2_interes','top3_interes','top4_interes', 'top5_interes','max_tr',\t'mean_tr', 'is_parent',\t'is_driver',\t'has_pets',\t'cash_usage']] "
   ]
  },
  {
   "cell_type": "code",
   "execution_count": 6,
   "metadata": {},
   "outputs": [
    {
     "output_type": "execute_result",
     "data": {
      "text/plain": [
       "(30000, 21)"
      ]
     },
     "metadata": {},
     "execution_count": 6
    }
   ],
   "source": [
    "data.shape"
   ]
  },
  {
   "cell_type": "code",
   "execution_count": 7,
   "metadata": {},
   "outputs": [],
   "source": [
    "coded_data, coder = code_categories(data, 'label', ['top1_interes','top2_interes','top3_interes','top4_interes', 'top5_interes'])"
   ]
  },
  {
   "cell_type": "code",
   "execution_count": 8,
   "metadata": {},
   "outputs": [],
   "source": [
    "discrete, est = discretization(coded_data , 'equal_frequency', bins= 5, columns=['age', 'max_tr', 'mean_tr'])"
   ]
  },
  {
   "source": [
    "The main idea is to build a modular structure of Bayesian networks, where each network represents some level of a person’s personal description.   \n",
    "An example of such a structure is shown in the picture.\n",
    "\n",
    "![title](img/modules_scheme.png)"
   ],
   "cell_type": "markdown",
   "metadata": {}
  },
  {
   "cell_type": "code",
   "execution_count": 9,
   "metadata": {},
   "outputs": [],
   "source": [
    "module1 = data[['age',\t'sex',\t'has_high_education',\t'relation',\t'num_of_relatives']]\n",
    "module2 = data[['about',\t'activities',\t'books',\t'interests',\t'movies']]\n",
    "module3 = data[['top1_interes','top2_interes','top3_interes','top4_interes', 'top5_interes']]\n",
    "module4 = data[['max_tr',\t'mean_tr', 'is_parent',\t'is_driver',\t'has_pets',\t'cash_usage']]"
   ]
  },
  {
   "cell_type": "code",
   "execution_count": 10,
   "metadata": {},
   "outputs": [],
   "source": [
    "module1_d = discrete[['age',\t'sex',\t'has_high_education',\t'relation',\t'num_of_relatives']]\n",
    "module2_d = discrete[['about',\t'activities',\t'books',\t'interests',\t'movies']]\n",
    "module3_d = discrete[['top1_interes','top2_interes','top3_interes','top4_interes', 'top5_interes']]\n",
    "module4_d = discrete[['max_tr',\t'mean_tr', 'is_parent',\t'is_driver',\t'has_pets',\t'cash_usage']]"
   ]
  },
  {
   "cell_type": "code",
   "execution_count": 11,
   "metadata": {},
   "outputs": [
    {
     "output_type": "execute_result",
     "data": {
      "text/plain": [
       "{'age': 'cont',\n",
       " 'sex': 'disc',\n",
       " 'has_high_education': 'disc',\n",
       " 'relation': 'disc',\n",
       " 'num_of_relatives': 'disc'}"
      ]
     },
     "metadata": {},
     "execution_count": 11
    }
   ],
   "source": [
    "node_type1 = get_nodes_type(module1)\n",
    "node_type1"
   ]
  },
  {
   "cell_type": "code",
   "execution_count": 12,
   "metadata": {},
   "outputs": [
    {
     "output_type": "execute_result",
     "data": {
      "text/plain": [
       "{'about': 'disc',\n",
       " 'activities': 'disc',\n",
       " 'books': 'disc',\n",
       " 'interests': 'disc',\n",
       " 'movies': 'disc'}"
      ]
     },
     "metadata": {},
     "execution_count": 12
    }
   ],
   "source": [
    "node_type2 = get_nodes_type(module2)\n",
    "node_type2"
   ]
  },
  {
   "cell_type": "code",
   "execution_count": 13,
   "metadata": {},
   "outputs": [
    {
     "output_type": "execute_result",
     "data": {
      "text/plain": [
       "{'top1_interes': 'disc',\n",
       " 'top2_interes': 'disc',\n",
       " 'top3_interes': 'disc',\n",
       " 'top4_interes': 'disc',\n",
       " 'top5_interes': 'disc'}"
      ]
     },
     "metadata": {},
     "execution_count": 13
    }
   ],
   "source": [
    "node_type3 = get_nodes_type(module3)\n",
    "node_type3"
   ]
  },
  {
   "cell_type": "code",
   "execution_count": 14,
   "metadata": {},
   "outputs": [
    {
     "output_type": "execute_result",
     "data": {
      "text/plain": [
       "{'max_tr': 'cont',\n",
       " 'mean_tr': 'cont',\n",
       " 'is_parent': 'disc',\n",
       " 'is_driver': 'disc',\n",
       " 'has_pets': 'disc',\n",
       " 'cash_usage': 'disc'}"
      ]
     },
     "metadata": {},
     "execution_count": 14
    }
   ],
   "source": [
    "node_type4 = get_nodes_type(module4)\n",
    "node_type4"
   ]
  },
  {
   "cell_type": "code",
   "execution_count": 18,
   "metadata": {},
   "outputs": [
    {
     "output_type": "stream",
     "name": "stderr",
     "text": [
      "  0%|          | 54/1000000 [01:41<524:30:43,  1.89s/it] \n",
      "118.4262113571167\n"
     ]
    }
   ],
   "source": [
    "start = time.time()\n",
    "bn = structure_learning(discrete, 'HC', node_types, 'K2')\n",
    "param = parameter_learning(data, node_types, bn)\n",
    "end = time.time()\n",
    "print(end - start)"
   ]
  },
  {
   "cell_type": "code",
   "execution_count": 19,
   "metadata": {},
   "outputs": [],
   "source": [
    "save_structure(bn, 'full_net')\n",
    "skel = read_structure('full_net')\n",
    "save_params(param, 'full_net_param')\n",
    "params = read_params('full_net_param')\n",
    "full = HyBayesianNetwork(skel, params)"
   ]
  },
  {
   "cell_type": "code",
   "execution_count": 17,
   "metadata": {},
   "outputs": [
    {
     "output_type": "execute_result",
     "data": {
      "text/plain": [
       "<IPython.lib.display.IFrame at 0x268f9f54dc0>"
      ],
      "text/html": "\n        <iframe\n            width=\"100%\"\n            height=\"800px\"\n            src=\"visualization_result/Full_net.html\"\n            frameborder=\"0\"\n            allowfullscreen\n        ></iframe>\n        "
     },
     "metadata": {},
     "execution_count": 17
    }
   ],
   "source": [
    "draw_BN(bn, node_types, 'Full_net')"
   ]
  },
  {
   "cell_type": "code",
   "execution_count": 15,
   "metadata": {},
   "outputs": [
    {
     "output_type": "stream",
     "name": "stderr",
     "text": [
      "  0%|          | 7/1000000 [00:00<12:25:39, 22.35it/s]\n"
     ]
    }
   ],
   "source": [
    "start = time.time()\n",
    "bn1 = structure_learning(module1_d, 'HC', node_type1, 'K2')"
   ]
  },
  {
   "cell_type": "code",
   "execution_count": 24,
   "metadata": {},
   "outputs": [
    {
     "output_type": "execute_result",
     "data": {
      "text/plain": [
       "{'V': ['age', 'sex', 'has_high_education', 'relation', 'num_of_relatives'],\n",
       " 'E': [['sex', 'age'],\n",
       "  ['has_high_education', 'age'],\n",
       "  ['relation', 'has_high_education'],\n",
       "  ['relation', 'age'],\n",
       "  ['relation', 'sex'],\n",
       "  ['num_of_relatives', 'relation'],\n",
       "  ['num_of_relatives', 'has_high_education']]}"
      ]
     },
     "metadata": {},
     "execution_count": 24
    }
   ],
   "source": [
    "bn1"
   ]
  },
  {
   "cell_type": "code",
   "execution_count": 22,
   "metadata": {},
   "outputs": [
    {
     "output_type": "execute_result",
     "data": {
      "text/plain": [
       "<IPython.lib.display.IFrame at 0x268faa7eca0>"
      ],
      "text/html": "\n        <iframe\n            width=\"100%\"\n            height=\"800px\"\n            src=\"visualization_result/module1.html\"\n            frameborder=\"0\"\n            allowfullscreen\n        ></iframe>\n        "
     },
     "metadata": {},
     "execution_count": 22
    }
   ],
   "source": [
    "draw_BN(bn1, node_type1, 'module1')"
   ]
  },
  {
   "cell_type": "code",
   "execution_count": 16,
   "metadata": {
    "tags": []
   },
   "outputs": [],
   "source": [
    "param1 = parameter_learning(module1, node_type1, bn1)"
   ]
  },
  {
   "cell_type": "code",
   "execution_count": 17,
   "metadata": {},
   "outputs": [],
   "source": [
    "save_structure(bn1, 'skel1')\n",
    "skel1 = read_structure('skel1')\n",
    "save_params(param1, 'params1')\n",
    "params1 = read_params('params1')\n",
    "hybn1 = HyBayesianNetwork(skel1, params1)"
   ]
  },
  {
   "cell_type": "code",
   "execution_count": 18,
   "metadata": {},
   "outputs": [
    {
     "output_type": "stream",
     "name": "stderr",
     "text": [
      "  0%|          | 4/1000000 [00:00<25:35:45, 10.85it/s]\n"
     ]
    }
   ],
   "source": [
    "bn2 = structure_learning(module2_d, 'HC', node_type2, 'K2')"
   ]
  },
  {
   "cell_type": "code",
   "execution_count": 30,
   "metadata": {},
   "outputs": [
    {
     "output_type": "execute_result",
     "data": {
      "text/plain": [
       "{'V': ['about', 'activities', 'books', 'interests', 'movies'],\n",
       " 'E': [['books', 'movies'],\n",
       "  ['interests', 'activities'],\n",
       "  ['movies', 'interests'],\n",
       "  ['movies', 'about']]}"
      ]
     },
     "metadata": {},
     "execution_count": 30
    }
   ],
   "source": [
    "bn2"
   ]
  },
  {
   "cell_type": "code",
   "execution_count": 31,
   "metadata": {},
   "outputs": [
    {
     "output_type": "execute_result",
     "data": {
      "text/plain": [
       "<IPython.lib.display.IFrame at 0x2681fc7d370>"
      ],
      "text/html": "\n        <iframe\n            width=\"100%\"\n            height=\"800px\"\n            src=\"visualization_result/module2.html\"\n            frameborder=\"0\"\n            allowfullscreen\n        ></iframe>\n        "
     },
     "metadata": {},
     "execution_count": 31
    }
   ],
   "source": [
    "draw_BN(bn2, node_type2, 'module2')"
   ]
  },
  {
   "cell_type": "code",
   "execution_count": 19,
   "metadata": {},
   "outputs": [],
   "source": [
    "param2 = parameter_learning(module2, node_type2, bn2)"
   ]
  },
  {
   "cell_type": "code",
   "execution_count": 20,
   "metadata": {},
   "outputs": [],
   "source": [
    "save_structure(bn2, 'skel2')\n",
    "skel2 = read_structure('skel2')\n",
    "save_params(param2, 'params2')\n",
    "params2 = read_params('params2')\n",
    "hybn2 = HyBayesianNetwork(skel2, params2)"
   ]
  },
  {
   "cell_type": "code",
   "execution_count": 35,
   "metadata": {},
   "outputs": [
    {
     "output_type": "stream",
     "name": "stdout",
     "text": [
      "2.421198844909668\n"
     ]
    }
   ],
   "source": [
    "end = time.time()\n",
    "print(end - start)"
   ]
  },
  {
   "cell_type": "code",
   "execution_count": 21,
   "metadata": {},
   "outputs": [
    {
     "output_type": "stream",
     "name": "stderr",
     "text": [
      "  0%|          | 5/1000000 [00:00<31:40:49,  8.77it/s]\n"
     ]
    },
    {
     "output_type": "execute_result",
     "data": {
      "text/plain": [
       "{'V': ['top1_interes',\n",
       "  'top2_interes',\n",
       "  'top3_interes',\n",
       "  'top4_interes',\n",
       "  'top5_interes'],\n",
       " 'E': [['top1_interes', 'top2_interes'],\n",
       "  ['top1_interes', 'top3_interes'],\n",
       "  ['top1_interes', 'top4_interes'],\n",
       "  ['top1_interes', 'top5_interes'],\n",
       "  ['top2_interes', 'top3_interes']]}"
      ]
     },
     "metadata": {},
     "execution_count": 21
    }
   ],
   "source": [
    "bn3 = structure_learning(module3_d, 'HC', node_type3, 'K2')\n",
    "bn3"
   ]
  },
  {
   "cell_type": "code",
   "execution_count": 36,
   "metadata": {},
   "outputs": [
    {
     "output_type": "execute_result",
     "data": {
      "text/plain": [
       "<IPython.lib.display.IFrame at 0x2681fc7da00>"
      ],
      "text/html": "\n        <iframe\n            width=\"100%\"\n            height=\"800px\"\n            src=\"visualization_result/module3.html\"\n            frameborder=\"0\"\n            allowfullscreen\n        ></iframe>\n        "
     },
     "metadata": {},
     "execution_count": 36
    }
   ],
   "source": [
    "draw_BN(bn3, node_type3, 'module3')"
   ]
  },
  {
   "cell_type": "code",
   "execution_count": 22,
   "metadata": {},
   "outputs": [],
   "source": [
    "param3 = parameter_learning(module3, node_type3, bn3)"
   ]
  },
  {
   "cell_type": "code",
   "execution_count": 23,
   "metadata": {},
   "outputs": [],
   "source": [
    "save_structure(bn3, 'skel3')\n",
    "skel3 = read_structure('skel3')\n",
    "save_params(param3, 'params3')\n",
    "params3 = read_params('params3')\n",
    "hybn3 = HyBayesianNetwork(skel3, params3)"
   ]
  },
  {
   "cell_type": "code",
   "execution_count": 42,
   "metadata": {},
   "outputs": [
    {
     "output_type": "stream",
     "name": "stdout",
     "text": [
      "3.4464473724365234\n"
     ]
    }
   ],
   "source": [
    "end = time.time()\n",
    "print(end - start)"
   ]
  },
  {
   "cell_type": "code",
   "execution_count": 24,
   "metadata": {},
   "outputs": [
    {
     "output_type": "stream",
     "name": "stderr",
     "text": [
      "  0%|          | 13/1000000 [00:00<10:21:47, 26.80it/s]\n"
     ]
    },
    {
     "output_type": "execute_result",
     "data": {
      "text/plain": [
       "{'V': ['max_tr',\n",
       "  'mean_tr',\n",
       "  'is_parent',\n",
       "  'is_driver',\n",
       "  'has_pets',\n",
       "  'cash_usage'],\n",
       " 'E': [['mean_tr', 'max_tr'],\n",
       "  ['is_parent', 'mean_tr'],\n",
       "  ['is_parent', 'max_tr'],\n",
       "  ['is_driver', 'mean_tr'],\n",
       "  ['is_driver', 'is_parent'],\n",
       "  ['has_pets', 'mean_tr'],\n",
       "  ['has_pets', 'cash_usage'],\n",
       "  ['has_pets', 'is_parent'],\n",
       "  ['cash_usage', 'max_tr'],\n",
       "  ['cash_usage', 'is_parent'],\n",
       "  ['cash_usage', 'mean_tr'],\n",
       "  ['cash_usage', 'is_driver']]}"
      ]
     },
     "metadata": {},
     "execution_count": 24
    }
   ],
   "source": [
    "bn4 = structure_learning(module4_d, 'HC', node_type4, 'K2')\n",
    "bn4"
   ]
  },
  {
   "cell_type": "code",
   "execution_count": 46,
   "metadata": {},
   "outputs": [
    {
     "output_type": "display_data",
     "data": {
      "text/plain": "<Figure size 2025x225 with 1 Axes>",
      "image/svg+xml": "<?xml version=\"1.0\" encoding=\"utf-8\" standalone=\"no\"?>\r\n<!DOCTYPE svg PUBLIC \"-//W3C//DTD SVG 1.1//EN\"\r\n  \"http://www.w3.org/Graphics/SVG/1.1/DTD/svg11.dtd\">\r\n<!-- Created with matplotlib (https://matplotlib.org/) -->\r\n<svg height=\"100.837344pt\" version=\"1.1\" viewBox=\"0 0 958.444687 100.837344\" width=\"958.444687pt\" xmlns=\"http://www.w3.org/2000/svg\" xmlns:xlink=\"http://www.w3.org/1999/xlink\">\r\n <defs>\r\n  <style type=\"text/css\">\r\n*{stroke-linecap:butt;stroke-linejoin:round;}\r\n  </style>\r\n </defs>\r\n <g id=\"figure_1\">\r\n  <g id=\"patch_1\">\r\n   <path d=\"M 0 100.837344 \r\nL 958.444687 100.837344 \r\nL 958.444687 0 \r\nL 0 0 \r\nz\r\n\" style=\"fill:none;\"/>\r\n  </g>\r\n  <g id=\"axes_1\">\r\n   <g id=\"legend_1\">\r\n    <g id=\"patch_2\">\r\n     <path d=\"M 425.843438 52.818281 \r\nL 547.552813 52.818281 \r\nQ 549.552813 52.818281 549.552813 50.818281 \r\nL 549.552813 37.140156 \r\nQ 549.552813 35.140156 547.552813 35.140156 \r\nL 425.843438 35.140156 \r\nQ 423.843438 35.140156 423.843438 37.140156 \r\nL 423.843438 50.818281 \r\nQ 423.843438 52.818281 425.843438 52.818281 \r\nz\r\n\" style=\"fill:#ffffff;opacity:0.8;stroke:#cccccc;stroke-linejoin:miter;\"/>\r\n    </g>\r\n    <g id=\"patch_3\">\r\n     <path d=\"M 427.843438 46.738594 \r\nL 447.843438 46.738594 \r\nL 447.843438 39.738594 \r\nL 427.843438 39.738594 \r\nz\r\n\" style=\"fill:#1f77b4;stroke:#1f77b4;stroke-linejoin:miter;\"/>\r\n    </g>\r\n    <g id=\"text_1\">\r\n     <!-- disc -->\r\n     <defs>\r\n      <path d=\"M 45.40625 46.390625 \r\nL 45.40625 75.984375 \r\nL 54.390625 75.984375 \r\nL 54.390625 0 \r\nL 45.40625 0 \r\nL 45.40625 8.203125 \r\nQ 42.578125 3.328125 38.25 0.953125 \r\nQ 33.9375 -1.421875 27.875 -1.421875 \r\nQ 17.96875 -1.421875 11.734375 6.484375 \r\nQ 5.515625 14.40625 5.515625 27.296875 \r\nQ 5.515625 40.1875 11.734375 48.09375 \r\nQ 17.96875 56 27.875 56 \r\nQ 33.9375 56 38.25 53.625 \r\nQ 42.578125 51.265625 45.40625 46.390625 \r\nz\r\nM 14.796875 27.296875 \r\nQ 14.796875 17.390625 18.875 11.75 \r\nQ 22.953125 6.109375 30.078125 6.109375 \r\nQ 37.203125 6.109375 41.296875 11.75 \r\nQ 45.40625 17.390625 45.40625 27.296875 \r\nQ 45.40625 37.203125 41.296875 42.84375 \r\nQ 37.203125 48.484375 30.078125 48.484375 \r\nQ 22.953125 48.484375 18.875 42.84375 \r\nQ 14.796875 37.203125 14.796875 27.296875 \r\nz\r\n\" id=\"DejaVuSans-100\"/>\r\n      <path d=\"M 9.421875 54.6875 \r\nL 18.40625 54.6875 \r\nL 18.40625 0 \r\nL 9.421875 0 \r\nz\r\nM 9.421875 75.984375 \r\nL 18.40625 75.984375 \r\nL 18.40625 64.59375 \r\nL 9.421875 64.59375 \r\nz\r\n\" id=\"DejaVuSans-105\"/>\r\n      <path d=\"M 44.28125 53.078125 \r\nL 44.28125 44.578125 \r\nQ 40.484375 46.53125 36.375 47.5 \r\nQ 32.28125 48.484375 27.875 48.484375 \r\nQ 21.1875 48.484375 17.84375 46.4375 \r\nQ 14.5 44.390625 14.5 40.28125 \r\nQ 14.5 37.15625 16.890625 35.375 \r\nQ 19.28125 33.59375 26.515625 31.984375 \r\nL 29.59375 31.296875 \r\nQ 39.15625 29.25 43.1875 25.515625 \r\nQ 47.21875 21.78125 47.21875 15.09375 \r\nQ 47.21875 7.46875 41.1875 3.015625 \r\nQ 35.15625 -1.421875 24.609375 -1.421875 \r\nQ 20.21875 -1.421875 15.453125 -0.5625 \r\nQ 10.6875 0.296875 5.421875 2 \r\nL 5.421875 11.28125 \r\nQ 10.40625 8.6875 15.234375 7.390625 \r\nQ 20.0625 6.109375 24.8125 6.109375 \r\nQ 31.15625 6.109375 34.5625 8.28125 \r\nQ 37.984375 10.453125 37.984375 14.40625 \r\nQ 37.984375 18.0625 35.515625 20.015625 \r\nQ 33.0625 21.96875 24.703125 23.78125 \r\nL 21.578125 24.515625 \r\nQ 13.234375 26.265625 9.515625 29.90625 \r\nQ 5.8125 33.546875 5.8125 39.890625 \r\nQ 5.8125 47.609375 11.28125 51.796875 \r\nQ 16.75 56 26.8125 56 \r\nQ 31.78125 56 36.171875 55.265625 \r\nQ 40.578125 54.546875 44.28125 53.078125 \r\nz\r\n\" id=\"DejaVuSans-115\"/>\r\n      <path d=\"M 48.78125 52.59375 \r\nL 48.78125 44.1875 \r\nQ 44.96875 46.296875 41.140625 47.34375 \r\nQ 37.3125 48.390625 33.40625 48.390625 \r\nQ 24.65625 48.390625 19.8125 42.84375 \r\nQ 14.984375 37.3125 14.984375 27.296875 \r\nQ 14.984375 17.28125 19.8125 11.734375 \r\nQ 24.65625 6.203125 33.40625 6.203125 \r\nQ 37.3125 6.203125 41.140625 7.25 \r\nQ 44.96875 8.296875 48.78125 10.40625 \r\nL 48.78125 2.09375 \r\nQ 45.015625 0.34375 40.984375 -0.53125 \r\nQ 36.96875 -1.421875 32.421875 -1.421875 \r\nQ 20.0625 -1.421875 12.78125 6.34375 \r\nQ 5.515625 14.109375 5.515625 27.296875 \r\nQ 5.515625 40.671875 12.859375 48.328125 \r\nQ 20.21875 56 33.015625 56 \r\nQ 37.15625 56 41.109375 55.140625 \r\nQ 45.0625 54.296875 48.78125 52.59375 \r\nz\r\n\" id=\"DejaVuSans-99\"/>\r\n     </defs>\r\n     <g transform=\"translate(455.843438 46.738594)scale(0.1 -0.1)\">\r\n      <use xlink:href=\"#DejaVuSans-100\"/>\r\n      <use x=\"63.476562\" xlink:href=\"#DejaVuSans-105\"/>\r\n      <use x=\"91.259766\" xlink:href=\"#DejaVuSans-115\"/>\r\n      <use x=\"143.359375\" xlink:href=\"#DejaVuSans-99\"/>\r\n     </g>\r\n    </g>\r\n    <g id=\"patch_4\">\r\n     <path d=\"M 495.677813 46.738594 \r\nL 515.677813 46.738594 \r\nL 515.677813 39.738594 \r\nL 495.677813 39.738594 \r\nz\r\n\" style=\"fill:#9467bd;stroke:#9467bd;stroke-linejoin:miter;\"/>\r\n    </g>\r\n    <g id=\"text_2\">\r\n     <!-- cont -->\r\n     <defs>\r\n      <path d=\"M 30.609375 48.390625 \r\nQ 23.390625 48.390625 19.1875 42.75 \r\nQ 14.984375 37.109375 14.984375 27.296875 \r\nQ 14.984375 17.484375 19.15625 11.84375 \r\nQ 23.34375 6.203125 30.609375 6.203125 \r\nQ 37.796875 6.203125 41.984375 11.859375 \r\nQ 46.1875 17.53125 46.1875 27.296875 \r\nQ 46.1875 37.015625 41.984375 42.703125 \r\nQ 37.796875 48.390625 30.609375 48.390625 \r\nz\r\nM 30.609375 56 \r\nQ 42.328125 56 49.015625 48.375 \r\nQ 55.71875 40.765625 55.71875 27.296875 \r\nQ 55.71875 13.875 49.015625 6.21875 \r\nQ 42.328125 -1.421875 30.609375 -1.421875 \r\nQ 18.84375 -1.421875 12.171875 6.21875 \r\nQ 5.515625 13.875 5.515625 27.296875 \r\nQ 5.515625 40.765625 12.171875 48.375 \r\nQ 18.84375 56 30.609375 56 \r\nz\r\n\" id=\"DejaVuSans-111\"/>\r\n      <path d=\"M 54.890625 33.015625 \r\nL 54.890625 0 \r\nL 45.90625 0 \r\nL 45.90625 32.71875 \r\nQ 45.90625 40.484375 42.875 44.328125 \r\nQ 39.84375 48.1875 33.796875 48.1875 \r\nQ 26.515625 48.1875 22.3125 43.546875 \r\nQ 18.109375 38.921875 18.109375 30.90625 \r\nL 18.109375 0 \r\nL 9.078125 0 \r\nL 9.078125 54.6875 \r\nL 18.109375 54.6875 \r\nL 18.109375 46.1875 \r\nQ 21.34375 51.125 25.703125 53.5625 \r\nQ 30.078125 56 35.796875 56 \r\nQ 45.21875 56 50.046875 50.171875 \r\nQ 54.890625 44.34375 54.890625 33.015625 \r\nz\r\n\" id=\"DejaVuSans-110\"/>\r\n      <path d=\"M 18.3125 70.21875 \r\nL 18.3125 54.6875 \r\nL 36.8125 54.6875 \r\nL 36.8125 47.703125 \r\nL 18.3125 47.703125 \r\nL 18.3125 18.015625 \r\nQ 18.3125 11.328125 20.140625 9.421875 \r\nQ 21.96875 7.515625 27.59375 7.515625 \r\nL 36.8125 7.515625 \r\nL 36.8125 0 \r\nL 27.59375 0 \r\nQ 17.1875 0 13.234375 3.875 \r\nQ 9.28125 7.765625 9.28125 18.015625 \r\nL 9.28125 47.703125 \r\nL 2.6875 47.703125 \r\nL 2.6875 54.6875 \r\nL 9.28125 54.6875 \r\nL 9.28125 70.21875 \r\nz\r\n\" id=\"DejaVuSans-116\"/>\r\n     </defs>\r\n     <g transform=\"translate(523.677813 46.738594)scale(0.1 -0.1)\">\r\n      <use xlink:href=\"#DejaVuSans-99\"/>\r\n      <use x=\"54.980469\" xlink:href=\"#DejaVuSans-111\"/>\r\n      <use x=\"116.162109\" xlink:href=\"#DejaVuSans-110\"/>\r\n      <use x=\"179.541016\" xlink:href=\"#DejaVuSans-116\"/>\r\n     </g>\r\n    </g>\r\n   </g>\r\n  </g>\r\n </g>\r\n</svg>\r\n",
      "image/png": "[encoded data removed]"
     },
     "metadata": {
      "needs_background": "light"
     }
    },
    {
     "output_type": "execute_result",
     "data": {
      "text/plain": [
       "<IPython.lib.display.IFrame at 0xae0f0e2b00>"
      ],
      "text/html": "\n        <iframe\n            width=\"100%\"\n            height=\"800px\"\n            src=\"visualization_result/module4.html\"\n            frameborder=\"0\"\n            allowfullscreen\n        ></iframe>\n        "
     },
     "metadata": {},
     "execution_count": 46
    }
   ],
   "source": [
    "draw_BN(bn4, node_type4, 'module4')"
   ]
  },
  {
   "cell_type": "code",
   "execution_count": 25,
   "metadata": {},
   "outputs": [],
   "source": [
    "param4 = parameter_learning(module4, node_type4, bn4)"
   ]
  },
  {
   "cell_type": "code",
   "execution_count": 26,
   "metadata": {},
   "outputs": [],
   "source": [
    "save_structure(bn4, 'skel4')\n",
    "skel4 = read_structure('skel4')\n",
    "save_params(param4, 'params4')\n",
    "params4 = read_params('params4')\n",
    "hybn4 = HyBayesianNetwork(skel4, params4)"
   ]
  },
  {
   "cell_type": "code",
   "execution_count": 49,
   "metadata": {},
   "outputs": [
    {
     "output_type": "stream",
     "name": "stdout",
     "text": [
      "5.370755910873413\n"
     ]
    }
   ],
   "source": [
    "end = time.time()\n",
    "print(end - start)"
   ]
  },
  {
   "cell_type": "code",
   "execution_count": 27,
   "metadata": {},
   "outputs": [
    {
     "output_type": "stream",
     "name": "stderr",
     "text": [
      "  0%|          | 33/1000000 [00:09<84:05:38,  3.30it/s]['0 1', '0 2', '0 3']\n",
      "\n"
     ]
    }
   ],
   "source": [
    "hybn_connect = direct_connect([bn1,bn2, bn3, bn4], discrete, node_types)"
   ]
  },
  {
   "cell_type": "code",
   "execution_count": 28,
   "metadata": {},
   "outputs": [],
   "source": [
    "hybns = [bn1,bn2, bn3, bn4]"
   ]
  },
  {
   "cell_type": "code",
   "execution_count": 31,
   "metadata": {},
   "outputs": [
    {
     "output_type": "stream",
     "name": "stdout",
     "text": [
      "0 1\n",
      "0 2\n",
      "0 3\n"
     ]
    }
   ],
   "source": [
    "hybn_final = direct_train(hybns, coded_data, hybn_connect)"
   ]
  },
  {
   "cell_type": "code",
   "execution_count": 67,
   "metadata": {},
   "outputs": [
    {
     "output_type": "stream",
     "name": "stdout",
     "text": [
      "220.57396340370178\n"
     ]
    }
   ],
   "source": [
    "end = time.time()\n",
    "print(end - start)"
   ]
  },
  {
   "cell_type": "code",
   "execution_count": 68,
   "metadata": {},
   "outputs": [],
   "source": [
    "final_struct = dict()\n",
    "final_struct['V'] = hybn_final.V\n",
    "final_struct['E'] = hybn_final.E"
   ]
  },
  {
   "cell_type": "code",
   "execution_count": 69,
   "metadata": {},
   "outputs": [
    {
     "output_type": "execute_result",
     "data": {
      "text/plain": [
       "['relation_status',\n",
       " 'has_high_education',\n",
       " 'number_of_relatives',\n",
       " 'age',\n",
       " 'sex',\n",
       " 'L 0_1',\n",
       " 'number_of_activities',\n",
       " 'number_of_interests',\n",
       " 'number_of_movies',\n",
       " 'number_of_books',\n",
       " 'len_of_about',\n",
       " 'L 1_3',\n",
       " 'L 0_2',\n",
       " 'L 0_4',\n",
       " 'cash_usage',\n",
       " 'parent',\n",
       " 'driver',\n",
       " 'has_pets',\n",
       " 'L 4_2',\n",
       " 'mean_tr',\n",
       " 'max_tr',\n",
       " 'L 0_3',\n",
       " 'nodes',\n",
       " 'L 3_2',\n",
       " 'top1',\n",
       " 'top2',\n",
       " 'top3',\n",
       " 'top4',\n",
       " 'degree_assortativity_coefficient',\n",
       " 'eigenvector_centrality',\n",
       " 'betweenness_centrality',\n",
       " 'density']"
      ]
     },
     "metadata": {},
     "execution_count": 69
    }
   ],
   "source": [
    "final_struct['V'] "
   ]
  },
  {
   "cell_type": "code",
   "execution_count": 70,
   "metadata": {},
   "outputs": [
    {
     "output_type": "execute_result",
     "data": {
      "text/plain": [
       "[['top1', 'top3'],\n",
       " ['driver', 'max_tr'],\n",
       " ['number_of_movies', 'number_of_books'],\n",
       " ['number_of_activities', 'number_of_interests'],\n",
       " ['number_of_relatives', 'L 0_3'],\n",
       " ['eigenvector_centrality', 'betweenness_centrality'],\n",
       " ['has_pets', 'L 4_2'],\n",
       " ['cash_usage', 'mean_tr'],\n",
       " ['number_of_relatives', 'L 0_2'],\n",
       " ['nodes', 'L 3_2'],\n",
       " ['mean_tr', 'max_tr'],\n",
       " ['nodes', 'density'],\n",
       " ['L 0_1', 'number_of_activities'],\n",
       " ['parent', 'max_tr'],\n",
       " ['top3', 'top4'],\n",
       " ['L 0_2', 'top1'],\n",
       " ['top2', 'top3'],\n",
       " ['parent', 'driver'],\n",
       " ['L 4_2', 'top1'],\n",
       " ['sex', 'L 0_1'],\n",
       " ['sex', 'L 0_2'],\n",
       " ['number_of_relatives', 'L 0_4'],\n",
       " ['nodes', 'degree_assortativity_coefficient'],\n",
       " ['has_pets', 'mean_tr'],\n",
       " ['degree_assortativity_coefficient', 'betweenness_centrality'],\n",
       " ['cash_usage', 'driver'],\n",
       " ['top1', 'top2'],\n",
       " ['number_of_relatives', 'L 0_1'],\n",
       " ['has_high_education', 'number_of_relatives'],\n",
       " ['sex', 'L 0_4'],\n",
       " ['parent', 'has_pets'],\n",
       " ['parent', 'L 4_2'],\n",
       " ['top2', 'top4'],\n",
       " ['age', 'sex'],\n",
       " ['cash_usage', 'parent'],\n",
       " ['relation_status', 'age'],\n",
       " ['top1', 'top4'],\n",
       " ['degree_assortativity_coefficient', 'eigenvector_centrality'],\n",
       " ['betweenness_centrality', 'density'],\n",
       " ['driver', 'mean_tr'],\n",
       " ['relation_status', 'has_high_education'],\n",
       " ['L 0_4', 'cash_usage'],\n",
       " ['has_high_education', 'age'],\n",
       " ['has_pets', 'max_tr'],\n",
       " ['L 1_3', 'nodes'],\n",
       " ['number_of_activities', 'len_of_about'],\n",
       " ['driver', 'has_pets'],\n",
       " ['len_of_about', 'L 1_3'],\n",
       " ['L 0_3', 'nodes'],\n",
       " ['sex', 'L 0_3'],\n",
       " ['number_of_books', 'L 1_3'],\n",
       " ['driver', 'L 4_2'],\n",
       " ['parent', 'mean_tr'],\n",
       " ['number_of_interests', 'number_of_movies'],\n",
       " ['L 3_2', 'top1']]"
      ]
     },
     "metadata": {},
     "execution_count": 70
    }
   ],
   "source": [
    "final_struct['E']"
   ]
  },
  {
   "cell_type": "code",
   "execution_count": 32,
   "metadata": {},
   "outputs": [],
   "source": [
    "sample = generate_synthetics(hybn_final, nodes_sign)"
   ]
  },
  {
   "cell_type": "code",
   "execution_count": 33,
   "metadata": {},
   "outputs": [
    {
     "output_type": "execute_result",
     "data": {
      "text/plain": [
       "    num_of_relatives relation sex has_high_education L 0_1 books movies about  \\\n",
       "0                 10        1   2                  0     2     0      0     0   \n",
       "1                116        0   1                  1     2     1      1   117   \n",
       "2                 10        1   1                  0     2     0      0     0   \n",
       "3                 10        4   1                  1     0     0      0     0   \n",
       "4                 10        4   1                  0     0    13      0     0   \n",
       "..               ...      ...  ..                ...   ...   ...    ...   ...   \n",
       "995               10        4   2                  0     0     0      0     0   \n",
       "996               10        0   1                  1     1    18      1     1   \n",
       "997               10        4   2                  0     0     0      0     0   \n",
       "998              117        0   1                  0     2     0      0   100   \n",
       "999               10        1   2                  0     2     0      0     0   \n",
       "\n",
       "    interests activities  ...  top3_interes top5_interes top4_interes L 0_3  \\\n",
       "0           0          0  ...            15            0           13     2   \n",
       "1           0          0  ...            16           13           16     0   \n",
       "2           0          0  ...            14           16           22     0   \n",
       "3           0          0  ...            25            8           13     1   \n",
       "4           0          0  ...            14            9            7     1   \n",
       "..        ...        ...  ...           ...          ...          ...   ...   \n",
       "995         0          0  ...            13           15            0     1   \n",
       "996         1         14  ...            15           11            9     0   \n",
       "997         0          0  ...            19           22           18     1   \n",
       "998         0          0  ...            11            5           18     0   \n",
       "999         0         16  ...            19           25            4     2   \n",
       "\n",
       "    has_pets cash_usage is_driver is_parent       mean_tr         max_tr  \n",
       "0          0          1         0         0   8460.253261  264342.559592  \n",
       "1          0          1         0         0  20014.273942   86088.403806  \n",
       "2          0          1         0         1   2400.701858   52445.257798  \n",
       "3          0          1         0         0    973.293207  251236.378272  \n",
       "4          0          1         0         1  12284.878462  319384.379049  \n",
       "..       ...        ...       ...       ...           ...            ...  \n",
       "995        0          1         0         0   3744.816356   82432.211069  \n",
       "996        0          0         0         0   8842.612141   40145.780343  \n",
       "997        1          1         0         1   1148.524609   33768.210815  \n",
       "998        1          1         0         0   1065.107618    8779.735464  \n",
       "999        0          1         0         0   5095.216056   27516.944384  \n",
       "\n",
       "[1000 rows x 24 columns]"
      ],
      "text/html": "<div>\n<style scoped>\n    .dataframe tbody tr th:only-of-type {\n        vertical-align: middle;\n    }\n\n    .dataframe tbody tr th {\n        vertical-align: top;\n    }\n\n    .dataframe thead th {\n        text-align: right;\n    }\n</style>\n<table border=\"1\" class=\"dataframe\">\n  <thead>\n    <tr style=\"text-align: right;\">\n      <th></th>\n      <th>num_of_relatives</th>\n      <th>relation</th>\n      <th>sex</th>\n      <th>has_high_education</th>\n      <th>L 0_1</th>\n      <th>books</th>\n      <th>movies</th>\n      <th>about</th>\n      <th>interests</th>\n      <th>activities</th>\n      <th>...</th>\n      <th>top3_interes</th>\n      <th>top5_interes</th>\n      <th>top4_interes</th>\n      <th>L 0_3</th>\n      <th>has_pets</th>\n      <th>cash_usage</th>\n      <th>is_driver</th>\n      <th>is_parent</th>\n      <th>mean_tr</th>\n      <th>max_tr</th>\n    </tr>\n  </thead>\n  <tbody>\n    <tr>\n      <th>0</th>\n      <td>10</td>\n      <td>1</td>\n      <td>2</td>\n      <td>0</td>\n      <td>2</td>\n      <td>0</td>\n      <td>0</td>\n      <td>0</td>\n      <td>0</td>\n      <td>0</td>\n      <td>...</td>\n      <td>15</td>\n      <td>0</td>\n      <td>13</td>\n      <td>2</td>\n      <td>0</td>\n      <td>1</td>\n      <td>0</td>\n      <td>0</td>\n      <td>8460.253261</td>\n      <td>264342.559592</td>\n    </tr>\n    <tr>\n      <th>1</th>\n      <td>116</td>\n      <td>0</td>\n      <td>1</td>\n      <td>1</td>\n      <td>2</td>\n      <td>1</td>\n      <td>1</td>\n      <td>117</td>\n      <td>0</td>\n      <td>0</td>\n      <td>...</td>\n      <td>16</td>\n      <td>13</td>\n      <td>16</td>\n      <td>0</td>\n      <td>0</td>\n      <td>1</td>\n      <td>0</td>\n      <td>0</td>\n      <td>20014.273942</td>\n      <td>86088.403806</td>\n    </tr>\n    <tr>\n      <th>2</th>\n      <td>10</td>\n      <td>1</td>\n      <td>1</td>\n      <td>0</td>\n      <td>2</td>\n      <td>0</td>\n      <td>0</td>\n      <td>0</td>\n      <td>0</td>\n      <td>0</td>\n      <td>...</td>\n      <td>14</td>\n      <td>16</td>\n      <td>22</td>\n      <td>0</td>\n      <td>0</td>\n      <td>1</td>\n      <td>0</td>\n      <td>1</td>\n      <td>2400.701858</td>\n      <td>52445.257798</td>\n    </tr>\n    <tr>\n      <th>3</th>\n      <td>10</td>\n      <td>4</td>\n      <td>1</td>\n      <td>1</td>\n      <td>0</td>\n      <td>0</td>\n      <td>0</td>\n      <td>0</td>\n      <td>0</td>\n      <td>0</td>\n      <td>...</td>\n      <td>25</td>\n      <td>8</td>\n      <td>13</td>\n      <td>1</td>\n      <td>0</td>\n      <td>1</td>\n      <td>0</td>\n      <td>0</td>\n      <td>973.293207</td>\n      <td>251236.378272</td>\n    </tr>\n    <tr>\n      <th>4</th>\n      <td>10</td>\n      <td>4</td>\n      <td>1</td>\n      <td>0</td>\n      <td>0</td>\n      <td>13</td>\n      <td>0</td>\n      <td>0</td>\n      <td>0</td>\n      <td>0</td>\n      <td>...</td>\n      <td>14</td>\n      <td>9</td>\n      <td>7</td>\n      <td>1</td>\n      <td>0</td>\n      <td>1</td>\n      <td>0</td>\n      <td>1</td>\n      <td>12284.878462</td>\n      <td>319384.379049</td>\n    </tr>\n    <tr>\n      <th>...</th>\n      <td>...</td>\n      <td>...</td>\n      <td>...</td>\n      <td>...</td>\n      <td>...</td>\n      <td>...</td>\n      <td>...</td>\n      <td>...</td>\n      <td>...</td>\n      <td>...</td>\n      <td>...</td>\n      <td>...</td>\n      <td>...</td>\n      <td>...</td>\n      <td>...</td>\n      <td>...</td>\n      <td>...</td>\n      <td>...</td>\n      <td>...</td>\n      <td>...</td>\n      <td>...</td>\n    </tr>\n    <tr>\n      <th>995</th>\n      <td>10</td>\n      <td>4</td>\n      <td>2</td>\n      <td>0</td>\n      <td>0</td>\n      <td>0</td>\n      <td>0</td>\n      <td>0</td>\n      <td>0</td>\n      <td>0</td>\n      <td>...</td>\n      <td>13</td>\n      <td>15</td>\n      <td>0</td>\n      <td>1</td>\n      <td>0</td>\n      <td>1</td>\n      <td>0</td>\n      <td>0</td>\n      <td>3744.816356</td>\n      <td>82432.211069</td>\n    </tr>\n    <tr>\n      <th>996</th>\n      <td>10</td>\n      <td>0</td>\n      <td>1</td>\n      <td>1</td>\n      <td>1</td>\n      <td>18</td>\n      <td>1</td>\n      <td>1</td>\n      <td>1</td>\n      <td>14</td>\n      <td>...</td>\n      <td>15</td>\n      <td>11</td>\n      <td>9</td>\n      <td>0</td>\n      <td>0</td>\n      <td>0</td>\n      <td>0</td>\n      <td>0</td>\n      <td>8842.612141</td>\n      <td>40145.780343</td>\n    </tr>\n    <tr>\n      <th>997</th>\n      <td>10</td>\n      <td>4</td>\n      <td>2</td>\n      <td>0</td>\n      <td>0</td>\n      <td>0</td>\n      <td>0</td>\n      <td>0</td>\n      <td>0</td>\n      <td>0</td>\n      <td>...</td>\n      <td>19</td>\n      <td>22</td>\n      <td>18</td>\n      <td>1</td>\n      <td>1</td>\n      <td>1</td>\n      <td>0</td>\n      <td>1</td>\n      <td>1148.524609</td>\n      <td>33768.210815</td>\n    </tr>\n    <tr>\n      <th>998</th>\n      <td>117</td>\n      <td>0</td>\n      <td>1</td>\n      <td>0</td>\n      <td>2</td>\n      <td>0</td>\n      <td>0</td>\n      <td>100</td>\n      <td>0</td>\n      <td>0</td>\n      <td>...</td>\n      <td>11</td>\n      <td>5</td>\n      <td>18</td>\n      <td>0</td>\n      <td>1</td>\n      <td>1</td>\n      <td>0</td>\n      <td>0</td>\n      <td>1065.107618</td>\n      <td>8779.735464</td>\n    </tr>\n    <tr>\n      <th>999</th>\n      <td>10</td>\n      <td>1</td>\n      <td>2</td>\n      <td>0</td>\n      <td>2</td>\n      <td>0</td>\n      <td>0</td>\n      <td>0</td>\n      <td>0</td>\n      <td>16</td>\n      <td>...</td>\n      <td>19</td>\n      <td>25</td>\n      <td>4</td>\n      <td>2</td>\n      <td>0</td>\n      <td>1</td>\n      <td>0</td>\n      <td>0</td>\n      <td>5095.216056</td>\n      <td>27516.944384</td>\n    </tr>\n  </tbody>\n</table>\n<p>1000 rows × 24 columns</p>\n</div>"
     },
     "metadata": {},
     "execution_count": 33
    }
   ],
   "source": [
    "sample"
   ]
  }
 ]
}