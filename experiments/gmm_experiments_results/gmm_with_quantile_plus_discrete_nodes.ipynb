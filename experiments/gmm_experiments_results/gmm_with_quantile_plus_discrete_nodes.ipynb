{
 "metadata": {
  "language_info": {
   "codemirror_mode": {
    "name": "ipython",
    "version": 3
   },
   "file_extension": ".py",
   "mimetype": "text/x-python",
   "name": "python",
   "nbconvert_exporter": "python",
   "pygments_lexer": "ipython3",
   "version": "3.8.8"
  },
  "orig_nbformat": 4,
  "kernelspec": {
   "name": "python3",
   "display_name": "Python 3.8.8 64-bit"
  },
  "interpreter": {
   "hash": "0110e3ad3d2995649b9eed0505b86961f21d80e4cfa55b9dc2096312fa84aa23"
  }
 },
 "nbformat": 4,
 "nbformat_minor": 2,
 "cells": [
  {
   "cell_type": "code",
   "execution_count": 1,
   "source": [
    "import os,sys,inspect\r\n",
    "currentdir = os.path.dirname(os.path.abspath(inspect.getfile(inspect.currentframe())))\r\n",
    "parentdir = os.path.dirname(currentdir)\r\n",
    "sys.path.insert(0,parentdir) "
   ],
   "outputs": [],
   "metadata": {}
  },
  {
   "cell_type": "code",
   "execution_count": 2,
   "source": [
    "import pandas as pd\r\n",
    "import numpy as np\r\n",
    "from bayesian.train_bn import structure_learning, parameter_learning, parameter_learning_mix, component, n_component\r\n",
    "from preprocess.discretization import get_nodes_type, discretization, inverse_discretization, code_categories, get_nodes_sign\r\n",
    "from bayesian.save_bn import save_structure, save_params, read_structure, read_params\r\n",
    "from bayesian.sampling import generate_synthetics\r\n",
    "from bayesian.subsample import get_subsample\r\n",
    "from external.libpgm.hybayesiannetwork import HyBayesianNetwork\r\n",
    "from visualization.visualization import draw_BN\r\n",
    "from bayesian.calculate_accuracy import calculate_acc, LOO_validation\r\n",
    "import seaborn as sns\r\n",
    "import matplotlib.pyplot as plt\r\n",
    "from scipy import stats\r\n",
    "from copy import copy\r\n",
    "from external.libpgm.sampleaggregator import SampleAggregator\r\n",
    "import operator\r\n",
    "from sklearn.metrics import accuracy_score, mean_squared_error\r\n",
    "from scipy import stats\r\n",
    "from scipy.stats import multivariate_normal\r\n",
    "from sklearn.mixture import GaussianMixture\r\n",
    "import math\r\n",
    "from pomegranate import DiscreteDistribution\r\n",
    "import random\r\n",
    "from sklearn.model_selection import train_test_split\r\n",
    "from gmr import GMM\r\n",
    "from gmr.utils import check_random_state\r\n",
    "from gmr import MVN\r\n",
    "from sklearn.datasets import make_spd_matrix\r\n",
    "from sklearn.linear_model import LinearRegression\r\n",
    "from sklearn.cluster import DBSCAN\r\n",
    "from sklearn.covariance import EllipticEnvelope\r\n",
    "from numpy import percentile\r\n",
    "from scipy.stats import binned_statistic\r\n",
    "from scipy.stats.distributions import chi2\r\n",
    "import time\r\n",
    "from scipy.stats.mstats import mquantiles"
   ],
   "outputs": [],
   "metadata": {}
  },
  {
   "cell_type": "code",
   "execution_count": 7,
   "source": [
    "data = pd.read_csv('../data/daks_processed.csv')\r\n",
    "#data = data.drop(columns=['Unnamed: 0'])\r\n",
    "#columns = data.columns.tolist()\r\n",
    "columns = ['Tectonic regime', 'Period', 'Lithology', 'Structural setting', 'Hydrocarbon type', 'Depositional environment', 'Gross','Netpay','Porosity','Permeability', 'Depth']\r\n",
    "data = data[columns]\r\n",
    "data.dropna(inplace=True)\r\n",
    "data.reset_index(inplace=True, drop=True)"
   ],
   "outputs": [],
   "metadata": {}
  },
  {
   "cell_type": "code",
   "execution_count": 5,
   "source": [
    "data['Year'] = data['Year'].apply(lambda x: str(x))\r\n",
    "data['Month'] = data['Month'].apply(lambda x: str(x))\r\n",
    "data['Day'] = data['Day'].apply(lambda x: str(x))\r\n",
    "data['Hour'] = data['Hour'].apply(lambda x: str(x))"
   ],
   "outputs": [],
   "metadata": {}
  },
  {
   "cell_type": "code",
   "execution_count": 6,
   "source": [
    "def quantile2d(x,y,Nbins,nth):\r\n",
    "    from numpy import percentile\r\n",
    "    from scipy.stats import binned_statistic\r\n",
    "    def myperc(x,n=nth):\r\n",
    "        return(percentile(x,n))\r\n",
    "    t=binned_statistic(x,y,statistic=myperc,bins=Nbins)\r\n",
    "    return t"
   ],
   "outputs": [],
   "metadata": {}
  },
  {
   "cell_type": "code",
   "execution_count": 8,
   "source": [
    "sample = data.loc[data['Tectonic regime'] == 'COMPRESSION']\r\n",
    "sample.reset_index(inplace=True, drop=True)"
   ],
   "outputs": [],
   "metadata": {}
  },
  {
   "cell_type": "code",
   "execution_count": 10,
   "source": [
    "Nbins=5\r\n",
    "nth=95.\r\n",
    "y = sample['Depth'].values\r\n",
    "x = sample['Porosity'].values\r\n",
    "t =quantile2d(y,x,Nbins,nth)\r\n",
    "ii=[]\r\n",
    "for i in range(Nbins):\r\n",
    "    ii=ii+np.argwhere(((t.binnumber==i) & (x<t.statistic[i]))).flatten().tolist()\r\n",
    "ii=np.array(ii,dtype=int)"
   ],
   "outputs": [],
   "metadata": {}
  },
  {
   "cell_type": "code",
   "execution_count": 11,
   "source": [
    "new_data = sample.loc[ii, :]\r\n",
    "new_data.reset_index(inplace=True, drop=True)"
   ],
   "outputs": [],
   "metadata": {}
  },
  {
   "cell_type": "code",
   "execution_count": 12,
   "source": [
    "name1 = 'Porosity'\r\n",
    "name2 = 'Depth'\r\n",
    "n = int((component(new_data, [name1, name2], 'aic') + component(new_data, [name1, name2], 'bic'))/2)\r\n",
    "n"
   ],
   "outputs": [
    {
     "output_type": "execute_result",
     "data": {
      "text/plain": [
       "4"
      ]
     },
     "metadata": {},
     "execution_count": 12
    }
   ],
   "metadata": {}
  },
  {
   "cell_type": "code",
   "execution_count": 13,
   "source": [
    "colors = [\"c\", \"m\", \"y\", \"g\", \"b\", \"r\", '#d62728', \"w\", '#1f77b4', '#17becf']\r\n",
    "c = random.sample(colors, n)"
   ],
   "outputs": [],
   "metadata": {}
  },
  {
   "cell_type": "code",
   "execution_count": 14,
   "source": [
    "import numpy as np\r\n",
    "import matplotlib.pyplot as plt\r\n",
    "from gmr.utils import check_random_state\r\n",
    "from gmr import MVN, GMM, plot_error_ellipses\r\n",
    "\r\n",
    "\r\n",
    "random_state = check_random_state(0)\r\n",
    "\r\n",
    "n_samples = new_data.shape[0]\r\n",
    "X = new_data[[name1, name2]].values\r\n",
    "\r\n",
    "\r\n",
    "X_test = np.array(sorted(sample[name1].values))\r\n",
    "X_point = sample[[name1, name2]].values\r\n",
    "\r\n",
    "gmm = GMM(n_components=n, random_state=0)\r\n",
    "gmm.from_samples(X)\r\n",
    "Y = gmm.predict(np.array([0]), X_test[:, np.newaxis])\r\n",
    "\r\n",
    "plt.subplot(1, 2, 2)\r\n",
    "plt.title(\"Mixture of Experts: $p(Y | X) = \\Sigma_k \\pi_{k, Y|X} \"\r\n",
    "          \"\\mathcal{N}_{k, Y|X}$\")\r\n",
    "plt.scatter(X_point[:, 0], X_point[:, 1], c=['r'])\r\n",
    "plt.scatter(X_point[ii, 0], X_point[ii, 1], c=['b'])\r\n",
    "plt.xlabel(name1)\r\n",
    "plt.ylabel(name2)\r\n",
    "plot_error_ellipses(plt.gca(), gmm, colors=c)\r\n",
    "plt.plot(X_test, Y.ravel(), c=\"k\", lw=2)\r\n",
    "\r\n",
    "plt.show()"
   ],
   "outputs": [
    {
     "output_type": "display_data",
     "data": {
      "text/plain": [
       "<Figure size 432x288 with 1 Axes>"
      ],
      "image/png": "[encoded data removed]"
     },
     "metadata": {
      "needs_background": "light"
     }
    }
   ],
   "metadata": {}
  },
  {
   "cell_type": "code",
   "execution_count": 15,
   "source": [
    "sample2 = copy(data)"
   ],
   "outputs": [],
   "metadata": {}
  },
  {
   "cell_type": "code",
   "execution_count": 16,
   "source": [
    "name1 = 'Porosity'\r\n",
    "name2 = 'Depth'\r\n",
    "n = int((component(sample2, [name1, name2], 'aic') + component(sample2, [name1, name2], 'bic'))/2)\r\n",
    "n"
   ],
   "outputs": [
    {
     "output_type": "execute_result",
     "data": {
      "text/plain": [
       "2"
      ]
     },
     "metadata": {},
     "execution_count": 16
    }
   ],
   "metadata": {}
  },
  {
   "cell_type": "code",
   "execution_count": 17,
   "source": [
    "import numpy as np\r\n",
    "import matplotlib.pyplot as plt\r\n",
    "from gmr.utils import check_random_state\r\n",
    "from gmr import MVN, GMM, plot_error_ellipses\r\n",
    "\r\n",
    "\r\n",
    "random_state = check_random_state(0)\r\n",
    "\r\n",
    "n_samples = sample2.shape[0]\r\n",
    "X = sample2[[name1, name2]].values\r\n",
    "\r\n",
    "\r\n",
    "X_test = np.array(sorted(sample2[name1].values))\r\n",
    "X_point = sample2[[name1, name2]].values\r\n",
    "\r\n",
    "gmm = GMM(n_components=n, random_state=0)\r\n",
    "gmm.from_samples(X)\r\n",
    "Y = gmm.predict(np.array([0]), X_test[:, np.newaxis])\r\n",
    "\r\n",
    "plt.subplot(1, 2, 2)\r\n",
    "plt.title(\"Mixture of Experts: $p(Y | X) = \\Sigma_k \\pi_{k, Y|X} \"\r\n",
    "          \"\\mathcal{N}_{k, Y|X}$\")\r\n",
    "plt.scatter(X_point[:, 0], X_point[:, 1], c=['b'])\r\n",
    "plt.xlabel(name1)\r\n",
    "plt.ylabel(name2)\r\n",
    "plot_error_ellipses(plt.gca(), gmm, colors=c)\r\n",
    "plt.plot(X_test, Y.ravel(), c=\"k\", lw=2)\r\n",
    "\r\n",
    "plt.show()"
   ],
   "outputs": [
    {
     "output_type": "display_data",
     "data": {
      "text/plain": [
       "<Figure size 432x288 with 1 Axes>"
      ],
      "image/png": "[encoded data removed]"
     },
     "metadata": {
      "needs_background": "light"
     }
    }
   ],
   "metadata": {}
  },
  {
   "cell_type": "markdown",
   "source": [
    "## Байесовские сети с доп. дискретными узлами"
   ],
   "metadata": {}
  },
  {
   "cell_type": "code",
   "execution_count": 18,
   "source": [
    "data = pd.read_csv('../data/daks_processed.csv')\r\n",
    "#data = data.drop(columns=['Unnamed: 0'])\r\n",
    "#columns = data.columns.tolist()\r\n",
    "columns = ['Tectonic regime', 'Period', 'Lithology', 'Structural setting', 'Hydrocarbon type', 'Depositional environment', 'Gross','Netpay','Porosity','Permeability', 'Depth']\r\n",
    "data = data[columns]\r\n",
    "data.dropna(inplace=True)\r\n",
    "data.reset_index(inplace=True, drop=True)"
   ],
   "outputs": [],
   "metadata": {}
  },
  {
   "cell_type": "code",
   "execution_count": 19,
   "source": [
    "node_types = get_nodes_type(data)\r\n",
    "columns_for_disc = []\r\n",
    "columns_for_code = []\r\n",
    "for key in node_types.keys():\r\n",
    "    if node_types[key] == 'cont':\r\n",
    "        columns_for_disc.append(key)\r\n",
    "    else:\r\n",
    "        columns_for_code.append(key)"
   ],
   "outputs": [],
   "metadata": {}
  },
  {
   "cell_type": "code",
   "execution_count": 20,
   "source": [
    "code_data, coder = code_categories(data, 'label', columns_for_code)\r\n",
    "discrete_data, coder = discretization(code_data, 'equal_frequency', columns_for_disc)"
   ],
   "outputs": [],
   "metadata": {}
  },
  {
   "cell_type": "code",
   "execution_count": 21,
   "source": [
    "bn_full = structure_learning(discrete_data, 'HC', node_types, 'K2')"
   ],
   "outputs": [],
   "metadata": {}
  },
  {
   "cell_type": "code",
   "execution_count": 22,
   "source": [
    "droped_edges = []\r\n",
    "new_edges = []\r\n",
    "nodes = []\r\n",
    "for c in columns_for_disc:\r\n",
    "    flag = False\r\n",
    "    for edge in bn_full['E']:\r\n",
    "        new_edge = []\r\n",
    "        if (edge[1] == c) & (node_types[edge[0]] == 'disc'):\r\n",
    "            new_edge.append(edge[0])\r\n",
    "            new_edge.append(c + ' disc')\r\n",
    "            new_edges.append(new_edge)\r\n",
    "            droped_edges.append(edge)\r\n",
    "            flag = True\r\n",
    "    if flag == True:     \r\n",
    "        new_edges.append([c + ' disc', c])\r\n",
    "        bn_full['V'].append(c + ' disc')\r\n",
    "        nodes.append(c)"
   ],
   "outputs": [],
   "metadata": {}
  },
  {
   "cell_type": "code",
   "execution_count": 23,
   "source": [
    "bn_full['E'] = [l for l in bn_full['E'] if l not in droped_edges]\r\n",
    "bn_full['E'] = bn_full['E'] + new_edges"
   ],
   "outputs": [],
   "metadata": {}
  },
  {
   "cell_type": "code",
   "execution_count": 24,
   "source": [
    "for c in nodes:\r\n",
    "    discrete_data[c] = discrete_data[c].apply(lambda x: str(x))\r\n",
    "    data[c + ' disc'] = discrete_data[c]"
   ],
   "outputs": [],
   "metadata": {}
  },
  {
   "cell_type": "code",
   "execution_count": 25,
   "source": [
    "bn_full"
   ],
   "outputs": [
    {
     "output_type": "execute_result",
     "data": {
      "text/plain": [
       "{'V': ['Tectonic regime',\n",
       "  'Period',\n",
       "  'Lithology',\n",
       "  'Structural setting',\n",
       "  'Hydrocarbon type',\n",
       "  'Depositional environment',\n",
       "  'Gross',\n",
       "  'Netpay',\n",
       "  'Porosity',\n",
       "  'Permeability',\n",
       "  'Depth',\n",
       "  'Gross disc',\n",
       "  'Porosity disc',\n",
       "  'Permeability disc',\n",
       "  'Depth disc'],\n",
       " 'E': [['Tectonic regime', 'Structural setting'],\n",
       "  ['Lithology', 'Depositional environment'],\n",
       "  ['Structural setting', 'Period'],\n",
       "  ['Gross', 'Netpay'],\n",
       "  ['Porosity', 'Permeability'],\n",
       "  ['Porosity', 'Depth'],\n",
       "  ['Structural setting', 'Gross disc'],\n",
       "  ['Depositional environment', 'Gross disc'],\n",
       "  ['Gross disc', 'Gross'],\n",
       "  ['Period', 'Porosity disc'],\n",
       "  ['Porosity disc', 'Porosity'],\n",
       "  ['Lithology', 'Permeability disc'],\n",
       "  ['Permeability disc', 'Permeability'],\n",
       "  ['Tectonic regime', 'Depth disc'],\n",
       "  ['Depth disc', 'Depth']]}"
      ]
     },
     "metadata": {},
     "execution_count": 25
    }
   ],
   "metadata": {}
  },
  {
   "cell_type": "code",
   "execution_count": 26,
   "source": [
    "for c in columns_for_disc:\r\n",
    "    node_types[c + ' disc'] = 'disc'"
   ],
   "outputs": [],
   "metadata": {}
  },
  {
   "cell_type": "code",
   "execution_count": 27,
   "source": [
    "draw_BN(bn_full, node_types, 'new_geo')"
   ],
   "outputs": [
    {
     "output_type": "execute_result",
     "data": {
      "text/plain": [
       "<IPython.lib.display.IFrame at 0x1804b197a30>"
      ],
      "text/html": [
       "\n",
       "        <iframe\n",
       "            width=\"100%\"\n",
       "            height=\"800px\"\n",
       "            src=\"../visualization_result/new_geo.html\"\n",
       "            frameborder=\"0\"\n",
       "            allowfullscreen\n",
       "        ></iframe>\n",
       "        "
      ]
     },
     "metadata": {},
     "execution_count": 27
    }
   ],
   "metadata": {}
  },
  {
   "cell_type": "code",
   "execution_count": 28,
   "source": [
    "params = parameter_learning(data, node_types, bn_full, 'mix')\r\n",
    "save_structure(bn_full, 'all_net')\r\n",
    "skel = read_structure('all_net')\r\n",
    "save_params(params, 'all_net_param')\r\n",
    "params = read_params('all_net_param')\r\n",
    "all_bn = HyBayesianNetwork(skel, params)"
   ],
   "outputs": [],
   "metadata": {}
  }
 ]
}