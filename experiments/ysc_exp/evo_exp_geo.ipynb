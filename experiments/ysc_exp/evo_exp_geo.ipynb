{
 "metadata": {
  "language_info": {
   "codemirror_mode": {
    "name": "ipython",
    "version": 3
   },
   "file_extension": ".py",
   "mimetype": "text/x-python",
   "name": "python",
   "nbconvert_exporter": "python",
   "pygments_lexer": "ipython3",
   "version": "3.8.10"
  },
  "orig_nbformat": 2,
  "kernelspec": {
   "name": "python38764bitvenvvenv8d9bc911c7984d428b2c408f4efa4c32",
   "display_name": "Python 3.8.7 64-bit ('venv': venv)",
   "language": "python"
  },
  "metadata": {
   "interpreter": {
    "hash": "92325e3824298d5e9d71878960b8883dae61e3776a88d67e07708db8e5eaf7fa"
   }
  }
 },
 "nbformat": 4,
 "nbformat_minor": 2,
 "cells": [
  {
   "cell_type": "code",
   "execution_count": 1,
   "metadata": {},
   "outputs": [],
   "source": [
    "import os,sys,inspect\n",
    "currentdir = os.path.dirname(os.path.abspath(inspect.getfile(inspect.currentframe())))\n",
    "parentdir = os.path.dirname(currentdir)\n",
    "sys.path.insert(0,parentdir) "
   ]
  },
  {
   "cell_type": "code",
   "execution_count": 2,
   "metadata": {},
   "outputs": [
    {
     "output_type": "stream",
     "name": "stderr",
     "text": [
      "e:\\BAMT-master\\external\\libpgm\\hybayesiannetwork.py:120: SyntaxWarning: assertion is always true, perhaps remove parentheses?\n  assert ((isinstance(n, int) and n > 0), \"Argument must be a positive integer.\")\ne:\\BAMT-master\\external\\libpgm\\hybayesiannetwork.py:143: SyntaxWarning: assertion is always true, perhaps remove parentheses?\n  assert (pvalue != 'default', \"Graph skeleton was not topologically ordered.\")\n"
     ]
    }
   ],
   "source": [
    "import pandas as pd\n",
    "import numpy as np\n",
    "from bayesian.train_bn import structure_learning, parameter_learning, parameter_learning_mix\n",
    "from preprocess.discretization import get_nodes_type, discretization, inverse_discretization, code_categories\n",
    "from bayesian.save_bn import save_structure, save_params, read_structure, read_params\n",
    "from external.libpgm.hybayesiannetwork import HyBayesianNetwork\n",
    "from visualization.visualization import draw_BN\n",
    "from bayesian.calculate_accuracy import calculate_acc\n",
    "import seaborn as sns\n",
    "import matplotlib.pyplot as plt\n",
    "from scipy import stats\n",
    "from copy import copy\n",
    "from external.libpgm.sampleaggregator import SampleAggregator\n",
    "import operator\n",
    "from sklearn.metrics import accuracy_score, mean_squared_error\n",
    "from scipy import stats\n",
    "from scipy.stats import multivariate_normal\n",
    "from sklearn.mixture import GaussianMixture\n",
    "import math\n",
    "from pomegranate import DiscreteDistribution\n",
    "import random\n",
    "from sklearn.model_selection import train_test_split"
   ]
  },
  {
   "cell_type": "code",
   "execution_count": 3,
   "metadata": {},
   "outputs": [],
   "source": [
    "df_result_accuracy = pd.DataFrame(columns = ['Parameter', 'Strategy', 'Alg', 'accuracy'])\n",
    "df_result_rmse = pd.DataFrame(columns = ['Parameter', 'Strategy', 'Alg', 'rmse'])\n",
    "method = 'MI'"
   ]
  },
  {
   "cell_type": "code",
   "execution_count": 4,
   "metadata": {},
   "outputs": [],
   "source": [
    "geo = pd.read_csv('../data/hackathon_processed.csv')\n",
    "columns = ['Tectonic regime', 'Period', 'Lithology', 'Structural setting', 'Hydrocarbon type', 'Gross','Netpay','Porosity','Permeability', 'Depth']\n",
    "\"\"\"geo = pd.read_csv('../datasets/healthcare.csv')\n",
    "geo = geo.drop(columns=['Unnamed: 0'])\n",
    "columns = ['A', 'C', 'H', 'D', 'I', 'O', 'T']\"\"\"\n",
    "\"\"\"geo = pd.read_csv('../datasets/sangiovese.csv')\n",
    "geo = geo.drop(columns=['Unnamed: 0'])\n",
    "columns = ['Treatment', 'SproutN', 'BunchN', 'GrapeW', 'WoodW',\n",
    "       'SPAD06', 'NDVI06', 'SPAD08', 'NDVI08', 'Acid', 'Potass', 'Brix', 'pH',\n",
    "       'Anthoc', 'Polyph']\"\"\"\n",
    "geo = geo[columns]\n",
    "geo.dropna(inplace=True)\n",
    "geo.reset_index(inplace=True, drop=True)"
   ]
  },
  {
   "cell_type": "code",
   "execution_count": 5,
   "metadata": {},
   "outputs": [],
   "source": [
    "geo_train, geo_test = train_test_split(geo, test_size=0.1)\n",
    "geo_train.reset_index(inplace=True, drop=True)\n",
    "geo_test.reset_index(inplace=True, drop=True)"
   ]
  },
  {
   "cell_type": "code",
   "execution_count": 6,
   "metadata": {},
   "outputs": [
    {
     "output_type": "execute_result",
     "data": {
      "text/plain": [
       "{'Tectonic regime': 'disc',\n",
       " 'Period': 'disc',\n",
       " 'Lithology': 'disc',\n",
       " 'Structural setting': 'disc',\n",
       " 'Hydrocarbon type': 'disc',\n",
       " 'Gross': 'cont',\n",
       " 'Netpay': 'cont',\n",
       " 'Porosity': 'cont',\n",
       " 'Permeability': 'cont',\n",
       " 'Depth': 'cont'}"
      ]
     },
     "metadata": {},
     "execution_count": 6
    }
   ],
   "source": [
    "geo_types = get_nodes_type(geo)\n",
    "geo_types"
   ]
  },
  {
   "cell_type": "code",
   "execution_count": 7,
   "metadata": {},
   "outputs": [],
   "source": [
    "colums_for_code = []\n",
    "columns_for_disc = []\n",
    "for c in columns:\n",
    "    if geo_types[c] == 'disc':\n",
    "        colums_for_code.append(c)\n",
    "    else:\n",
    "        columns_for_disc.append(c)"
   ]
  },
  {
   "cell_type": "code",
   "execution_count": 8,
   "metadata": {},
   "outputs": [],
   "source": [
    "geo_coded, label_coder = code_categories(geo_train, 'label', colums_for_code)\n",
    "geo_discrete, coder = discretization(geo_coded, 'equal_frequency', columns_for_disc)\n",
    "geo_only_discrete, discrete_coder = discretization(geo_train, 'equal_frequency', columns_for_disc)"
   ]
  },
  {
   "cell_type": "code",
   "execution_count": 29,
   "metadata": {},
   "outputs": [],
   "source": [
    "geo_new_types = {'Tectonic regime': 'disc',\n",
    " 'Period': 'disc',\n",
    " 'Lithology': 'disc',\n",
    " 'Structural setting': 'disc',\n",
    " 'Hydrocarbon type': 'disc',\n",
    " 'Gross': 'disc',\n",
    " 'Netpay': 'disc',\n",
    " 'Porosity': 'disc',\n",
    " 'Permeability': 'disc',\n",
    " 'Depth': 'disc'}"
   ]
  },
  {
   "source": [
    "# EVO"
   ],
   "cell_type": "markdown",
   "metadata": {}
  },
  {
   "source": [
    "# Дискретная стурктура + смешанные параметры"
   ],
   "cell_type": "markdown",
   "metadata": {}
  },
  {
   "source": [
    "bn_geo = structure_learning(geo_discrete, 'evo', geo_types, method)"
   ],
   "cell_type": "code",
   "metadata": {
    "tags": []
   },
   "execution_count": 11,
   "outputs": [
    {
     "output_type": "stream",
     "name": "stdout",
     "text": [
      "Best metric is 10.0105\n",
      "Generation num: 0\n",
      "max_depth: 8, no improvements: 0\n",
      "Number of mutation attempts exceeded. Please check composer requirements for correctness.\n",
      "spent time: 1.5 min\n",
      "Best metric is 9.999099999999999\n",
      "Generation num: 1\n",
      "max_depth: 8, no improvements: 0\n",
      "Number of mutation attempts exceeded. Please check composer requirements for correctness.\n",
      "Number of mutation attempts exceeded. Please check composer requirements for correctness.\n",
      "Number of mutation attempts exceeded. Please check composer requirements for correctness.\n",
      "Number of mutation attempts exceeded. Please check composer requirements for correctness.\n",
      "Number of mutation attempts exceeded. Please check composer requirements for correctness.\n",
      "Number of mutation attempts exceeded. Please check composer requirements for correctness.\n",
      "Number of mutation attempts exceeded. Please check composer requirements for correctness.\n",
      "Number of mutation attempts exceeded. Please check composer requirements for correctness.\n",
      "Number of mutation attempts exceeded. Please check composer requirements for correctness.\n",
      "Number of mutation attempts exceeded. Please check composer requirements for correctness.\n",
      "Number of mutation attempts exceeded. Please check composer requirements for correctness.\n",
      "spent time: 23.6 min\n",
      "Best metric is 9.999099999999999\n",
      "Result:\n",
      "Best metric is 9.999099999999999\n",
      "Composition time: 23.578 min\n",
      "Algorithm was terminated due to processing time limit\n"
     ]
    }
   ]
  },
  {
   "cell_type": "code",
   "execution_count": 12,
   "metadata": {},
   "outputs": [
    {
     "output_type": "execute_result",
     "data": {
      "text/plain": [
       "<IPython.lib.display.IFrame at 0x18ce7a59a90>"
      ],
      "text/html": "\n        <iframe\n            width=\"100%\"\n            height=\"800px\"\n            src=\"../visualization_result/geo_net.html\"\n            frameborder=\"0\"\n            allowfullscreen\n        ></iframe>\n        "
     },
     "metadata": {},
     "execution_count": 12
    }
   ],
   "source": [
    "draw_BN(bn_geo, geo_types, 'geo_net')"
   ]
  },
  {
   "cell_type": "code",
   "execution_count": 13,
   "metadata": {},
   "outputs": [
    {
     "output_type": "stream",
     "name": "stdout",
     "text": [
      "{'V': ['Tectonic regime', 'Period', 'Lithology', 'Structural setting', 'Hydrocarbon type', 'Gross', 'Netpay', 'Porosity', 'Permeability', 'Depth'], 'E': [['Period', 'Porosity'], ['Netpay', 'Permeability'], ['Tectonic regime', 'Porosity'], ['Tectonic regime', 'Permeability'], ['Lithology', 'Period'], ['Hydrocarbon type', 'Tectonic regime'], ['Structural setting', 'Period'], ['Structural setting', 'Tectonic regime']]}\n"
     ]
    }
   ],
   "source": [
    "print(bn_geo)"
   ]
  },
  {
   "cell_type": "code",
   "execution_count": 14,
   "metadata": {},
   "outputs": [],
   "source": [
    "params = parameter_learning(geo_train, geo_types, bn_geo, 'simple')"
   ]
  },
  {
   "cell_type": "code",
   "execution_count": 15,
   "metadata": {},
   "outputs": [],
   "source": [
    "save_structure(bn_geo, 'geo_net')\n",
    "skel = read_structure('geo_net')\n",
    "save_params(params, 'geo_net_param')\n",
    "params = read_params('geo_net_param')\n",
    "geo_bn = HyBayesianNetwork(skel, params)"
   ]
  },
  {
   "cell_type": "code",
   "execution_count": 16,
   "metadata": {},
   "outputs": [
    {
     "output_type": "stream",
     "name": "stdout",
     "text": [
      "\"['GLAUCONITIC SANDSTONE', 'RIFT']\"\n"
     ]
    }
   ],
   "source": [
    "acc, rmse, real_data, pred_data = calculate_acc(geo_bn, geo_test, columns, 'nrmse')"
   ]
  },
  {
   "cell_type": "code",
   "execution_count": 17,
   "metadata": {},
   "outputs": [
    {
     "output_type": "execute_result",
     "data": {
      "text/plain": [
       "{'Tectonic regime': 0.76,\n",
       " 'Period': 0.32,\n",
       " 'Lithology': 0.51,\n",
       " 'Structural setting': 0.31,\n",
       " 'Hydrocarbon type': 0.67}"
      ]
     },
     "metadata": {},
     "execution_count": 17
    }
   ],
   "source": [
    "acc"
   ]
  },
  {
   "cell_type": "code",
   "execution_count": 18,
   "metadata": {},
   "outputs": [
    {
     "output_type": "execute_result",
     "data": {
      "text/plain": [
       "{'Gross': 0.24,\n",
       " 'Netpay': 0.19,\n",
       " 'Porosity': 0.62,\n",
       " 'Permeability': 0.25,\n",
       " 'Depth': 0.46}"
      ]
     },
     "metadata": {},
     "execution_count": 18
    }
   ],
   "source": [
    "rmse"
   ]
  },
  {
   "cell_type": "code",
   "execution_count": 19,
   "metadata": {},
   "outputs": [],
   "source": [
    "for key in acc.keys():\n",
    "    df_result_accuracy = df_result_accuracy.append({'Parameter': key, 'Strategy': 'evo', 'Alg':'D+M','accuracy':acc[key]}, ignore_index=True)\n",
    "for key in rmse.keys():\n",
    "    df_result_rmse = df_result_rmse.append({'Parameter': key, 'Strategy': 'evo', 'Alg':'D+M','rmse':rmse[key]}, ignore_index=True)"
   ]
  },
  {
   "source": [
    "# Смешанная структура + смешанные параметры"
   ],
   "cell_type": "markdown",
   "metadata": {}
  },
  {
   "cell_type": "code",
   "execution_count": 20,
   "metadata": {
    "tags": []
   },
   "outputs": [
    {
     "output_type": "stream",
     "name": "stdout",
     "text": [
      "Best metric is 13.508421804077068\n",
      "Generation num: 0\n",
      "max_depth: 8, no improvements: 0\n",
      "Number of mutation attempts exceeded. Please check composer requirements for correctness.\n",
      "spent time: 2.3 min\n",
      "Best metric is 13.508421804077068\n",
      "Generation num: 1\n",
      "max_depth: 8, no improvements: 1\n",
      "spent time: 3.1 min\n",
      "Best metric is 13.508421804077068\n",
      "Generation num: 2\n",
      "max_depth: 8, no improvements: 2\n",
      "spent time: 3.8 min\n",
      "Best metric is 13.508421804077068\n",
      "Generation num: 3\n",
      "max_depth: 8, no improvements: 3\n",
      "spent time: 4.7 min\n",
      "Best metric is 13.508421804077068\n",
      "Generation num: 4\n",
      "max_depth: 8, no improvements: 4\n",
      "spent time: 5.5 min\n",
      "Best metric is 13.508421804077068\n",
      "Generation num: 5\n",
      "max_depth: 8, no improvements: 5\n",
      "spent time: 6.3 min\n",
      "Best metric is 13.508421804077068\n",
      "Generation num: 6\n",
      "max_depth: 8, no improvements: 6\n",
      "spent time: 7.1 min\n",
      "Best metric is 13.508421804077068\n",
      "Generation num: 7\n",
      "max_depth: 8, no improvements: 7\n",
      "spent time: 7.9 min\n",
      "Best metric is 13.508421804077068\n",
      "Generation num: 8\n",
      "max_depth: 8, no improvements: 8\n",
      "spent time: 8.6 min\n",
      "Best metric is 13.508421804077068\n",
      "Generation num: 9\n",
      "max_depth: 8, no improvements: 9\n",
      "spent time: 9.5 min\n",
      "Best metric is 13.508421804077068\n",
      "Generation num: 10\n",
      "max_depth: 8, no improvements: 10\n",
      "spent time: 10.2 min\n",
      "Best metric is 13.508421804077068\n",
      "Generation num: 11\n",
      "max_depth: 8, no improvements: 11\n",
      "spent time: 11.0 min\n",
      "Best metric is 13.508421804077068\n",
      "Generation num: 12\n",
      "max_depth: 8, no improvements: 12\n",
      "spent time: 11.8 min\n",
      "Best metric is 13.508421804077068\n",
      "Generation num: 13\n",
      "max_depth: 8, no improvements: 13\n",
      "spent time: 12.6 min\n",
      "Best metric is 13.508421804077068\n",
      "Result:\n",
      "Best metric is 13.508421804077068\n",
      "Composition time: 12.583 min\n"
     ]
    }
   ],
   "source": [
    "bn_geo = structure_learning(geo_coded, 'evo', geo_types, method)"
   ]
  },
  {
   "cell_type": "code",
   "execution_count": 21,
   "metadata": {},
   "outputs": [
    {
     "output_type": "execute_result",
     "data": {
      "text/plain": [
       "<IPython.lib.display.IFrame at 0x18cb1266e50>"
      ],
      "text/html": "\n        <iframe\n            width=\"100%\"\n            height=\"800px\"\n            src=\"../visualization_result/geo_net.html\"\n            frameborder=\"0\"\n            allowfullscreen\n        ></iframe>\n        "
     },
     "metadata": {},
     "execution_count": 21
    }
   ],
   "source": [
    "draw_BN(bn_geo, geo_types, 'geo_net')"
   ]
  },
  {
   "cell_type": "code",
   "execution_count": 22,
   "metadata": {},
   "outputs": [],
   "source": [
    "params = parameter_learning(geo_train, geo_types, bn_geo, 'simple')"
   ]
  },
  {
   "cell_type": "code",
   "execution_count": 23,
   "metadata": {},
   "outputs": [],
   "source": [
    "save_structure(bn_geo, 'geo_net')\n",
    "skel = read_structure('geo_net')\n",
    "save_params(params, 'geo_net_param')\n",
    "params = read_params('geo_net_param')\n",
    "geo_bn = HyBayesianNetwork(skel, params)"
   ]
  },
  {
   "cell_type": "code",
   "execution_count": 24,
   "metadata": {},
   "outputs": [],
   "source": [
    "acc, rmse, real, pred = calculate_acc(geo_bn, geo_test, columns, 'nrmse')"
   ]
  },
  {
   "cell_type": "code",
   "execution_count": 25,
   "metadata": {},
   "outputs": [
    {
     "output_type": "execute_result",
     "data": {
      "text/plain": [
       "{'Tectonic regime': 0.58,\n",
       " 'Period': 0.27,\n",
       " 'Lithology': 0.51,\n",
       " 'Structural setting': 0.31,\n",
       " 'Hydrocarbon type': 0.67}"
      ]
     },
     "metadata": {},
     "execution_count": 25
    }
   ],
   "source": [
    "acc"
   ]
  },
  {
   "cell_type": "code",
   "execution_count": 26,
   "metadata": {},
   "outputs": [
    {
     "output_type": "execute_result",
     "data": {
      "text/plain": [
       "{'Gross': 0.24,\n",
       " 'Netpay': 0.19,\n",
       " 'Porosity': 0.62,\n",
       " 'Permeability': 0.25,\n",
       " 'Depth': 0.46}"
      ]
     },
     "metadata": {},
     "execution_count": 26
    }
   ],
   "source": [
    "rmse"
   ]
  },
  {
   "cell_type": "code",
   "execution_count": 27,
   "metadata": {},
   "outputs": [],
   "source": [
    "for key in acc.keys():\n",
    "    df_result_accuracy = df_result_accuracy.append({'Parameter': key, 'Strategy': 'evo', 'Alg':'M+M','accuracy':acc[key]}, ignore_index=True)\n",
    "for key in rmse.keys():\n",
    "    df_result_rmse = df_result_rmse.append({'Parameter': key, 'Strategy': 'evo', 'Alg':'M+M','rmse':rmse[key]}, ignore_index=True)"
   ]
  },
  {
   "source": [
    "# Дискретная структура + дискретные параметры"
   ],
   "cell_type": "markdown",
   "metadata": {}
  },
  {
   "cell_type": "code",
   "execution_count": 30,
   "metadata": {
    "tags": []
   },
   "outputs": [
    {
     "output_type": "stream",
     "name": "stdout",
     "text": [
      "Best metric is 9.6414\n",
      "Generation num: 0\n",
      "max_depth: 8, no improvements: 0\n",
      "spent time: 0.2 min\n",
      "Best metric is 9.6414\n",
      "Generation num: 1\n",
      "max_depth: 8, no improvements: 1\n",
      "spent time: 0.3 min\n",
      "Best metric is 9.5136\n",
      "Generation num: 2\n",
      "max_depth: 8, no improvements: 0\n",
      "spent time: 0.4 min\n",
      "Best metric is 9.4265\n",
      "Generation num: 3\n",
      "max_depth: 8, no improvements: 0\n",
      "spent time: 0.7 min\n",
      "Best metric is 9.4147\n",
      "Generation num: 4\n",
      "max_depth: 8, no improvements: 0\n",
      "spent time: 0.8 min\n",
      "Best metric is 9.3558\n",
      "Generation num: 5\n",
      "max_depth: 8, no improvements: 0\n",
      "spent time: 0.9 min\n",
      "Best metric is 9.3443\n",
      "Generation num: 6\n",
      "max_depth: 8, no improvements: 0\n",
      "spent time: 1.0 min\n",
      "Best metric is 9.3356\n",
      "Generation num: 7\n",
      "max_depth: 8, no improvements: 0\n",
      "spent time: 1.1 min\n",
      "Best metric is 9.3338\n",
      "Generation num: 8\n",
      "max_depth: 8, no improvements: 0\n",
      "spent time: 1.3 min\n",
      "Best metric is 9.3245\n",
      "Generation num: 9\n",
      "max_depth: 8, no improvements: 0\n",
      "spent time: 1.4 min\n",
      "Best metric is 9.3245\n",
      "Generation num: 10\n",
      "max_depth: 8, no improvements: 1\n",
      "spent time: 1.5 min\n",
      "Best metric is 9.3245\n",
      "Generation num: 11\n",
      "max_depth: 8, no improvements: 2\n",
      "spent time: 1.7 min\n",
      "Best metric is 9.3245\n",
      "Generation num: 12\n",
      "max_depth: 8, no improvements: 3\n",
      "spent time: 1.8 min\n",
      "Best metric is 9.3245\n",
      "Generation num: 13\n",
      "max_depth: 8, no improvements: 4\n",
      "spent time: 1.8 min\n",
      "Best metric is 9.3245\n",
      "Result:\n",
      "Best metric is 9.3245\n",
      "Composition time: 1.846 min\n"
     ]
    }
   ],
   "source": [
    "bn_geo = structure_learning(geo_discrete, 'evo', geo_new_types, method)"
   ]
  },
  {
   "cell_type": "code",
   "execution_count": 31,
   "metadata": {},
   "outputs": [
    {
     "output_type": "execute_result",
     "data": {
      "text/plain": [
       "<IPython.lib.display.IFrame at 0x18ce7a5e730>"
      ],
      "text/html": "\n        <iframe\n            width=\"100%\"\n            height=\"800px\"\n            src=\"../visualization_result/geo_net.html\"\n            frameborder=\"0\"\n            allowfullscreen\n        ></iframe>\n        "
     },
     "metadata": {},
     "execution_count": 31
    }
   ],
   "source": [
    "draw_BN(bn_geo, geo_types, 'geo_net')"
   ]
  },
  {
   "cell_type": "code",
   "execution_count": 32,
   "metadata": {},
   "outputs": [],
   "source": [
    "params = parameter_learning(geo_only_discrete, geo_new_types, bn_geo, 'simple')"
   ]
  },
  {
   "cell_type": "code",
   "execution_count": 33,
   "metadata": {},
   "outputs": [],
   "source": [
    "save_structure(bn_geo, 'geo_net')\n",
    "skel = read_structure('geo_net')\n",
    "save_params(params, 'geo_net_param')\n",
    "params = read_params('geo_net_param')\n",
    "geo_bn = HyBayesianNetwork(skel, params)"
   ]
  },
  {
   "cell_type": "code",
   "execution_count": 34,
   "metadata": {},
   "outputs": [],
   "source": [
    "test_discrete = copy(geo_test)\n",
    "test_discrete[columns_for_disc] = discrete_coder.transform(geo_test[columns_for_disc].values) "
   ]
  },
  {
   "cell_type": "code",
   "execution_count": 35,
   "metadata": {},
   "outputs": [
    {
     "output_type": "execute_result",
     "data": {
      "text/plain": [
       "   Tectonic regime                 Period                  Lithology  \\\n",
       "0          GRAVITY               JURASSIC                  LIMESTONE   \n",
       "1        EXTENSION                NEOGENE                  SANDSTONE   \n",
       "2      COMPRESSION             CRETACEOUS                  SANDSTONE   \n",
       "3      COMPRESSION      PALEOGENE-NEOGENE                  LIMESTONE   \n",
       "4          GRAVITY             CRETACEOUS                  SANDSTONE   \n",
       "5        EXTENSION              PALEOGENE                  SANDSTONE   \n",
       "6      COMPRESSION             ORDOVICIAN                  SANDSTONE   \n",
       "7        EXTENSION               MESOZOIC                  VOLCANICS   \n",
       "8      STRIKE-SLIP                NEOGENE                  SANDSTONE   \n",
       "9      COMPRESSION             CRETACEOUS                  LIMESTONE   \n",
       "10     COMPRESSION          CARBONIFEROUS                  SANDSTONE   \n",
       "11     COMPRESSION  CARBONIFEROUS-PERMIAN                  LIMESTONE   \n",
       "12     COMPRESSION       DEVONIAN-PERMIAN                  LIMESTONE   \n",
       "13     COMPRESSION               SILURIAN                   DOLOMITE   \n",
       "14       EXTENSION               JURASSIC                  SANDSTONE   \n",
       "15     COMPRESSION                NEOGENE                  SANDSTONE   \n",
       "16       INVERSION               JURASSIC                   DOLOMITE   \n",
       "17     COMPRESSION                PERMIAN                   DOLOMITE   \n",
       "18     COMPRESSION               SILURIAN                   DOLOMITE   \n",
       "19     COMPRESSION             CRETACEOUS                  SANDSTONE   \n",
       "20     COMPRESSION               DEVONIAN                  LIMESTONE   \n",
       "21       EXTENSION   PALEOZOIC-CRETACEOUS                  SANDSTONE   \n",
       "22       INVERSION             CRETACEOUS      GLAUCONITIC SANDSTONE   \n",
       "23         GRAVITY             CRETACEOUS                  LIMESTONE   \n",
       "24     COMPRESSION          CARBONIFEROUS            SHALY SANDSTONE   \n",
       "25     COMPRESSION          CARBONIFEROUS                  SANDSTONE   \n",
       "26     COMPRESSION             CRETACEOUS                   DOLOMITE   \n",
       "27       EXTENSION              PALEOZOIC                  SANDSTONE   \n",
       "28     COMPRESSION             CRETACEOUS                  SANDSTONE   \n",
       "29     COMPRESSION               JURASSIC                  SANDSTONE   \n",
       "30       INVERSION               JURASSIC                  SANDSTONE   \n",
       "31       EXTENSION              PALEOGENE                  LIMESTONE   \n",
       "32     COMPRESSION   CRETACEOUS-PALEOGENE                  SANDSTONE   \n",
       "33     COMPRESSION             CRETACEOUS  LOW-RESISTIVITY SANDSTONE   \n",
       "34     COMPRESSION   CRETACEOUS-PALEOGENE                  SANDSTONE   \n",
       "35       EXTENSION              PALEOGENE                  SANDSTONE   \n",
       "36     COMPRESSION      PALEOGENE-NEOGENE        DOLOMITIC LIMESTONE   \n",
       "37     COMPRESSION                PERMIAN                   DOLOMITE   \n",
       "38         GRAVITY             CRETACEOUS                  SANDSTONE   \n",
       "39     COMPRESSION             ORDOVICIAN                   DOLOMITE   \n",
       "40     COMPRESSION             CRETACEOUS                  SANDSTONE   \n",
       "41       EXTENSION             CRETACEOUS                  SANDSTONE   \n",
       "42       EXTENSION             ORDOVICIAN                   DOLOMITE   \n",
       "43     COMPRESSION                PERMIAN                   DOLOMITE   \n",
       "44         GRAVITY               JURASSIC                  SANDSTONE   \n",
       "\n",
       "   Structural setting Hydrocarbon type  Gross  Netpay  Porosity  Permeability  \\\n",
       "0                SALT              OIL      1       2         4             3   \n",
       "1                RIFT              OIL      4       1         4             4   \n",
       "2            FORELAND              OIL      0       0         3             1   \n",
       "3            FORELAND              OIL      4       4         3             2   \n",
       "4                SALT              OIL      2       1         4             4   \n",
       "5                RIFT              OIL      1       1         4             4   \n",
       "6       INTRACRATONIC              GAS      4       3         0             0   \n",
       "7                RIFT              OIL      3       3         1             0   \n",
       "8           INVERSION              OIL      4       3         3             2   \n",
       "9                SALT              OIL      2       2         3             2   \n",
       "10           FORELAND              OIL      2       1         3             1   \n",
       "11           SUB-SALT              GAS      4       4         1             0   \n",
       "12           SUB-SALT   GAS-CONDENSATE      4       4         0             1   \n",
       "13           FORELAND              GAS      1       1         0             0   \n",
       "14               RIFT              OIL      4       4         4             4   \n",
       "15           FORELAND              OIL      4       3         3             3   \n",
       "16          INVERSION              GAS      0       1         2             2   \n",
       "17               SALT              OIL      3       3         2             0   \n",
       "18             THRUST              GAS      4       2         0             0   \n",
       "19      INTRACRATONIC              GAS      4       3         4             3   \n",
       "20           FORELAND              OIL      2       1         0             1   \n",
       "21           SUB-SALT              OIL      4       4         2             3   \n",
       "22               RIFT              GAS      0       0         4             4   \n",
       "23     PASSIVE MARGIN              OIL      0       0         1             1   \n",
       "24           FORELAND              GAS      1       0         1             0   \n",
       "25           FORELAND              OIL      0       1         3             3   \n",
       "26           FORELAND              OIL      4       3         1             1   \n",
       "27           SUB-SALT              OIL      4       4         2             2   \n",
       "28      INTRACRATONIC              OIL      4       3         2             0   \n",
       "29         SUB-THRUST   GAS-CONDENSATE      4       4         0             0   \n",
       "30               RIFT              OIL      2       3         3             3   \n",
       "31               RIFT              OIL      2       2         3             4   \n",
       "32             THRUST              OIL      4       4         0             0   \n",
       "33           FORELAND              OIL      0       0         3             2   \n",
       "34         SUB-THRUST              GAS      4       4         2             0   \n",
       "35               RIFT              GAS      3       4         1             3   \n",
       "36           FORELAND              OIL      4       4         0             0   \n",
       "37           FORELAND              OIL      2       2         0             0   \n",
       "38               SALT              OIL      2       1         3             3   \n",
       "39      INTRACRATONIC              OIL      3       1         1             1   \n",
       "40           FORELAND   GAS-CONDENSATE      0       1         1             0   \n",
       "41               RIFT   GAS-CONDENSATE      4       4         1             3   \n",
       "42               RIFT              OIL      3       2         0             1   \n",
       "43           FORELAND              OIL      2       2         1             0   \n",
       "44               SALT   GAS-CONDENSATE      2       3         0             0   \n",
       "\n",
       "    Depth  \n",
       "0       2  \n",
       "1       1  \n",
       "2       1  \n",
       "3       0  \n",
       "4       1  \n",
       "5       1  \n",
       "6       2  \n",
       "7       4  \n",
       "8       1  \n",
       "9       1  \n",
       "10      0  \n",
       "11      1  \n",
       "12      4  \n",
       "13      4  \n",
       "14      1  \n",
       "15      0  \n",
       "16      2  \n",
       "17      3  \n",
       "18      4  \n",
       "19      1  \n",
       "20      3  \n",
       "21      4  \n",
       "22      0  \n",
       "23      3  \n",
       "24      2  \n",
       "25      2  \n",
       "26      2  \n",
       "27      4  \n",
       "28      3  \n",
       "29      4  \n",
       "30      2  \n",
       "31      2  \n",
       "32      4  \n",
       "33      2  \n",
       "34      1  \n",
       "35      4  \n",
       "36      0  \n",
       "37      0  \n",
       "38      2  \n",
       "39      3  \n",
       "40      1  \n",
       "41      4  \n",
       "42      2  \n",
       "43      1  \n",
       "44      4  "
      ],
      "text/html": "<div>\n<style scoped>\n    .dataframe tbody tr th:only-of-type {\n        vertical-align: middle;\n    }\n\n    .dataframe tbody tr th {\n        vertical-align: top;\n    }\n\n    .dataframe thead th {\n        text-align: right;\n    }\n</style>\n<table border=\"1\" class=\"dataframe\">\n  <thead>\n    <tr style=\"text-align: right;\">\n      <th></th>\n      <th>Tectonic regime</th>\n      <th>Period</th>\n      <th>Lithology</th>\n      <th>Structural setting</th>\n      <th>Hydrocarbon type</th>\n      <th>Gross</th>\n      <th>Netpay</th>\n      <th>Porosity</th>\n      <th>Permeability</th>\n      <th>Depth</th>\n    </tr>\n  </thead>\n  <tbody>\n    <tr>\n      <th>0</th>\n      <td>GRAVITY</td>\n      <td>JURASSIC</td>\n      <td>LIMESTONE</td>\n      <td>SALT</td>\n      <td>OIL</td>\n      <td>1</td>\n      <td>2</td>\n      <td>4</td>\n      <td>3</td>\n      <td>2</td>\n    </tr>\n    <tr>\n      <th>1</th>\n      <td>EXTENSION</td>\n      <td>NEOGENE</td>\n      <td>SANDSTONE</td>\n      <td>RIFT</td>\n      <td>OIL</td>\n      <td>4</td>\n      <td>1</td>\n      <td>4</td>\n      <td>4</td>\n      <td>1</td>\n    </tr>\n    <tr>\n      <th>2</th>\n      <td>COMPRESSION</td>\n      <td>CRETACEOUS</td>\n      <td>SANDSTONE</td>\n      <td>FORELAND</td>\n      <td>OIL</td>\n      <td>0</td>\n      <td>0</td>\n      <td>3</td>\n      <td>1</td>\n      <td>1</td>\n    </tr>\n    <tr>\n      <th>3</th>\n      <td>COMPRESSION</td>\n      <td>PALEOGENE-NEOGENE</td>\n      <td>LIMESTONE</td>\n      <td>FORELAND</td>\n      <td>OIL</td>\n      <td>4</td>\n      <td>4</td>\n      <td>3</td>\n      <td>2</td>\n      <td>0</td>\n    </tr>\n    <tr>\n      <th>4</th>\n      <td>GRAVITY</td>\n      <td>CRETACEOUS</td>\n      <td>SANDSTONE</td>\n      <td>SALT</td>\n      <td>OIL</td>\n      <td>2</td>\n      <td>1</td>\n      <td>4</td>\n      <td>4</td>\n      <td>1</td>\n    </tr>\n    <tr>\n      <th>5</th>\n      <td>EXTENSION</td>\n      <td>PALEOGENE</td>\n      <td>SANDSTONE</td>\n      <td>RIFT</td>\n      <td>OIL</td>\n      <td>1</td>\n      <td>1</td>\n      <td>4</td>\n      <td>4</td>\n      <td>1</td>\n    </tr>\n    <tr>\n      <th>6</th>\n      <td>COMPRESSION</td>\n      <td>ORDOVICIAN</td>\n      <td>SANDSTONE</td>\n      <td>INTRACRATONIC</td>\n      <td>GAS</td>\n      <td>4</td>\n      <td>3</td>\n      <td>0</td>\n      <td>0</td>\n      <td>2</td>\n    </tr>\n    <tr>\n      <th>7</th>\n      <td>EXTENSION</td>\n      <td>MESOZOIC</td>\n      <td>VOLCANICS</td>\n      <td>RIFT</td>\n      <td>OIL</td>\n      <td>3</td>\n      <td>3</td>\n      <td>1</td>\n      <td>0</td>\n      <td>4</td>\n    </tr>\n    <tr>\n      <th>8</th>\n      <td>STRIKE-SLIP</td>\n      <td>NEOGENE</td>\n      <td>SANDSTONE</td>\n      <td>INVERSION</td>\n      <td>OIL</td>\n      <td>4</td>\n      <td>3</td>\n      <td>3</td>\n      <td>2</td>\n      <td>1</td>\n    </tr>\n    <tr>\n      <th>9</th>\n      <td>COMPRESSION</td>\n      <td>CRETACEOUS</td>\n      <td>LIMESTONE</td>\n      <td>SALT</td>\n      <td>OIL</td>\n      <td>2</td>\n      <td>2</td>\n      <td>3</td>\n      <td>2</td>\n      <td>1</td>\n    </tr>\n    <tr>\n      <th>10</th>\n      <td>COMPRESSION</td>\n      <td>CARBONIFEROUS</td>\n      <td>SANDSTONE</td>\n      <td>FORELAND</td>\n      <td>OIL</td>\n      <td>2</td>\n      <td>1</td>\n      <td>3</td>\n      <td>1</td>\n      <td>0</td>\n    </tr>\n    <tr>\n      <th>11</th>\n      <td>COMPRESSION</td>\n      <td>CARBONIFEROUS-PERMIAN</td>\n      <td>LIMESTONE</td>\n      <td>SUB-SALT</td>\n      <td>GAS</td>\n      <td>4</td>\n      <td>4</td>\n      <td>1</td>\n      <td>0</td>\n      <td>1</td>\n    </tr>\n    <tr>\n      <th>12</th>\n      <td>COMPRESSION</td>\n      <td>DEVONIAN-PERMIAN</td>\n      <td>LIMESTONE</td>\n      <td>SUB-SALT</td>\n      <td>GAS-CONDENSATE</td>\n      <td>4</td>\n      <td>4</td>\n      <td>0</td>\n      <td>1</td>\n      <td>4</td>\n    </tr>\n    <tr>\n      <th>13</th>\n      <td>COMPRESSION</td>\n      <td>SILURIAN</td>\n      <td>DOLOMITE</td>\n      <td>FORELAND</td>\n      <td>GAS</td>\n      <td>1</td>\n      <td>1</td>\n      <td>0</td>\n      <td>0</td>\n      <td>4</td>\n    </tr>\n    <tr>\n      <th>14</th>\n      <td>EXTENSION</td>\n      <td>JURASSIC</td>\n      <td>SANDSTONE</td>\n      <td>RIFT</td>\n      <td>OIL</td>\n      <td>4</td>\n      <td>4</td>\n      <td>4</td>\n      <td>4</td>\n      <td>1</td>\n    </tr>\n    <tr>\n      <th>15</th>\n      <td>COMPRESSION</td>\n      <td>NEOGENE</td>\n      <td>SANDSTONE</td>\n      <td>FORELAND</td>\n      <td>OIL</td>\n      <td>4</td>\n      <td>3</td>\n      <td>3</td>\n      <td>3</td>\n      <td>0</td>\n    </tr>\n    <tr>\n      <th>16</th>\n      <td>INVERSION</td>\n      <td>JURASSIC</td>\n      <td>DOLOMITE</td>\n      <td>INVERSION</td>\n      <td>GAS</td>\n      <td>0</td>\n      <td>1</td>\n      <td>2</td>\n      <td>2</td>\n      <td>2</td>\n    </tr>\n    <tr>\n      <th>17</th>\n      <td>COMPRESSION</td>\n      <td>PERMIAN</td>\n      <td>DOLOMITE</td>\n      <td>SALT</td>\n      <td>OIL</td>\n      <td>3</td>\n      <td>3</td>\n      <td>2</td>\n      <td>0</td>\n      <td>3</td>\n    </tr>\n    <tr>\n      <th>18</th>\n      <td>COMPRESSION</td>\n      <td>SILURIAN</td>\n      <td>DOLOMITE</td>\n      <td>THRUST</td>\n      <td>GAS</td>\n      <td>4</td>\n      <td>2</td>\n      <td>0</td>\n      <td>0</td>\n      <td>4</td>\n    </tr>\n    <tr>\n      <th>19</th>\n      <td>COMPRESSION</td>\n      <td>CRETACEOUS</td>\n      <td>SANDSTONE</td>\n      <td>INTRACRATONIC</td>\n      <td>GAS</td>\n      <td>4</td>\n      <td>3</td>\n      <td>4</td>\n      <td>3</td>\n      <td>1</td>\n    </tr>\n    <tr>\n      <th>20</th>\n      <td>COMPRESSION</td>\n      <td>DEVONIAN</td>\n      <td>LIMESTONE</td>\n      <td>FORELAND</td>\n      <td>OIL</td>\n      <td>2</td>\n      <td>1</td>\n      <td>0</td>\n      <td>1</td>\n      <td>3</td>\n    </tr>\n    <tr>\n      <th>21</th>\n      <td>EXTENSION</td>\n      <td>PALEOZOIC-CRETACEOUS</td>\n      <td>SANDSTONE</td>\n      <td>SUB-SALT</td>\n      <td>OIL</td>\n      <td>4</td>\n      <td>4</td>\n      <td>2</td>\n      <td>3</td>\n      <td>4</td>\n    </tr>\n    <tr>\n      <th>22</th>\n      <td>INVERSION</td>\n      <td>CRETACEOUS</td>\n      <td>GLAUCONITIC SANDSTONE</td>\n      <td>RIFT</td>\n      <td>GAS</td>\n      <td>0</td>\n      <td>0</td>\n      <td>4</td>\n      <td>4</td>\n      <td>0</td>\n    </tr>\n    <tr>\n      <th>23</th>\n      <td>GRAVITY</td>\n      <td>CRETACEOUS</td>\n      <td>LIMESTONE</td>\n      <td>PASSIVE MARGIN</td>\n      <td>OIL</td>\n      <td>0</td>\n      <td>0</td>\n      <td>1</td>\n      <td>1</td>\n      <td>3</td>\n    </tr>\n    <tr>\n      <th>24</th>\n      <td>COMPRESSION</td>\n      <td>CARBONIFEROUS</td>\n      <td>SHALY SANDSTONE</td>\n      <td>FORELAND</td>\n      <td>GAS</td>\n      <td>1</td>\n      <td>0</td>\n      <td>1</td>\n      <td>0</td>\n      <td>2</td>\n    </tr>\n    <tr>\n      <th>25</th>\n      <td>COMPRESSION</td>\n      <td>CARBONIFEROUS</td>\n      <td>SANDSTONE</td>\n      <td>FORELAND</td>\n      <td>OIL</td>\n      <td>0</td>\n      <td>1</td>\n      <td>3</td>\n      <td>3</td>\n      <td>2</td>\n    </tr>\n    <tr>\n      <th>26</th>\n      <td>COMPRESSION</td>\n      <td>CRETACEOUS</td>\n      <td>DOLOMITE</td>\n      <td>FORELAND</td>\n      <td>OIL</td>\n      <td>4</td>\n      <td>3</td>\n      <td>1</td>\n      <td>1</td>\n      <td>2</td>\n    </tr>\n    <tr>\n      <th>27</th>\n      <td>EXTENSION</td>\n      <td>PALEOZOIC</td>\n      <td>SANDSTONE</td>\n      <td>SUB-SALT</td>\n      <td>OIL</td>\n      <td>4</td>\n      <td>4</td>\n      <td>2</td>\n      <td>2</td>\n      <td>4</td>\n    </tr>\n    <tr>\n      <th>28</th>\n      <td>COMPRESSION</td>\n      <td>CRETACEOUS</td>\n      <td>SANDSTONE</td>\n      <td>INTRACRATONIC</td>\n      <td>OIL</td>\n      <td>4</td>\n      <td>3</td>\n      <td>2</td>\n      <td>0</td>\n      <td>3</td>\n    </tr>\n    <tr>\n      <th>29</th>\n      <td>COMPRESSION</td>\n      <td>JURASSIC</td>\n      <td>SANDSTONE</td>\n      <td>SUB-THRUST</td>\n      <td>GAS-CONDENSATE</td>\n      <td>4</td>\n      <td>4</td>\n      <td>0</td>\n      <td>0</td>\n      <td>4</td>\n    </tr>\n    <tr>\n      <th>30</th>\n      <td>INVERSION</td>\n      <td>JURASSIC</td>\n      <td>SANDSTONE</td>\n      <td>RIFT</td>\n      <td>OIL</td>\n      <td>2</td>\n      <td>3</td>\n      <td>3</td>\n      <td>3</td>\n      <td>2</td>\n    </tr>\n    <tr>\n      <th>31</th>\n      <td>EXTENSION</td>\n      <td>PALEOGENE</td>\n      <td>LIMESTONE</td>\n      <td>RIFT</td>\n      <td>OIL</td>\n      <td>2</td>\n      <td>2</td>\n      <td>3</td>\n      <td>4</td>\n      <td>2</td>\n    </tr>\n    <tr>\n      <th>32</th>\n      <td>COMPRESSION</td>\n      <td>CRETACEOUS-PALEOGENE</td>\n      <td>SANDSTONE</td>\n      <td>THRUST</td>\n      <td>OIL</td>\n      <td>4</td>\n      <td>4</td>\n      <td>0</td>\n      <td>0</td>\n      <td>4</td>\n    </tr>\n    <tr>\n      <th>33</th>\n      <td>COMPRESSION</td>\n      <td>CRETACEOUS</td>\n      <td>LOW-RESISTIVITY SANDSTONE</td>\n      <td>FORELAND</td>\n      <td>OIL</td>\n      <td>0</td>\n      <td>0</td>\n      <td>3</td>\n      <td>2</td>\n      <td>2</td>\n    </tr>\n    <tr>\n      <th>34</th>\n      <td>COMPRESSION</td>\n      <td>CRETACEOUS-PALEOGENE</td>\n      <td>SANDSTONE</td>\n      <td>SUB-THRUST</td>\n      <td>GAS</td>\n      <td>4</td>\n      <td>4</td>\n      <td>2</td>\n      <td>0</td>\n      <td>1</td>\n    </tr>\n    <tr>\n      <th>35</th>\n      <td>EXTENSION</td>\n      <td>PALEOGENE</td>\n      <td>SANDSTONE</td>\n      <td>RIFT</td>\n      <td>GAS</td>\n      <td>3</td>\n      <td>4</td>\n      <td>1</td>\n      <td>3</td>\n      <td>4</td>\n    </tr>\n    <tr>\n      <th>36</th>\n      <td>COMPRESSION</td>\n      <td>PALEOGENE-NEOGENE</td>\n      <td>DOLOMITIC LIMESTONE</td>\n      <td>FORELAND</td>\n      <td>OIL</td>\n      <td>4</td>\n      <td>4</td>\n      <td>0</td>\n      <td>0</td>\n      <td>0</td>\n    </tr>\n    <tr>\n      <th>37</th>\n      <td>COMPRESSION</td>\n      <td>PERMIAN</td>\n      <td>DOLOMITE</td>\n      <td>FORELAND</td>\n      <td>OIL</td>\n      <td>2</td>\n      <td>2</td>\n      <td>0</td>\n      <td>0</td>\n      <td>0</td>\n    </tr>\n    <tr>\n      <th>38</th>\n      <td>GRAVITY</td>\n      <td>CRETACEOUS</td>\n      <td>SANDSTONE</td>\n      <td>SALT</td>\n      <td>OIL</td>\n      <td>2</td>\n      <td>1</td>\n      <td>3</td>\n      <td>3</td>\n      <td>2</td>\n    </tr>\n    <tr>\n      <th>39</th>\n      <td>COMPRESSION</td>\n      <td>ORDOVICIAN</td>\n      <td>DOLOMITE</td>\n      <td>INTRACRATONIC</td>\n      <td>OIL</td>\n      <td>3</td>\n      <td>1</td>\n      <td>1</td>\n      <td>1</td>\n      <td>3</td>\n    </tr>\n    <tr>\n      <th>40</th>\n      <td>COMPRESSION</td>\n      <td>CRETACEOUS</td>\n      <td>SANDSTONE</td>\n      <td>FORELAND</td>\n      <td>GAS-CONDENSATE</td>\n      <td>0</td>\n      <td>1</td>\n      <td>1</td>\n      <td>0</td>\n      <td>1</td>\n    </tr>\n    <tr>\n      <th>41</th>\n      <td>EXTENSION</td>\n      <td>CRETACEOUS</td>\n      <td>SANDSTONE</td>\n      <td>RIFT</td>\n      <td>GAS-CONDENSATE</td>\n      <td>4</td>\n      <td>4</td>\n      <td>1</td>\n      <td>3</td>\n      <td>4</td>\n    </tr>\n    <tr>\n      <th>42</th>\n      <td>EXTENSION</td>\n      <td>ORDOVICIAN</td>\n      <td>DOLOMITE</td>\n      <td>RIFT</td>\n      <td>OIL</td>\n      <td>3</td>\n      <td>2</td>\n      <td>0</td>\n      <td>1</td>\n      <td>2</td>\n    </tr>\n    <tr>\n      <th>43</th>\n      <td>COMPRESSION</td>\n      <td>PERMIAN</td>\n      <td>DOLOMITE</td>\n      <td>FORELAND</td>\n      <td>OIL</td>\n      <td>2</td>\n      <td>2</td>\n      <td>1</td>\n      <td>0</td>\n      <td>1</td>\n    </tr>\n    <tr>\n      <th>44</th>\n      <td>GRAVITY</td>\n      <td>JURASSIC</td>\n      <td>SANDSTONE</td>\n      <td>SALT</td>\n      <td>GAS-CONDENSATE</td>\n      <td>2</td>\n      <td>3</td>\n      <td>0</td>\n      <td>0</td>\n      <td>4</td>\n    </tr>\n  </tbody>\n</table>\n</div>"
     },
     "metadata": {},
     "execution_count": 35
    }
   ],
   "source": [
    "for c in columns_for_disc:\n",
    "    test_discrete[c] = test_discrete[c].apply(lambda x: int(x))\n",
    "test_discrete"
   ]
  },
  {
   "cell_type": "code",
   "execution_count": 36,
   "metadata": {},
   "outputs": [
    {
     "output_type": "stream",
     "name": "stdout",
     "text": [
      "\"['OIL', 'MESOZOIC']\"\n",
      "\"['4', 'MESOZOIC']\"\n",
      "\"['3', '1', 'MESOZOIC']\"\n",
      "\"['GAS-CONDENSATE', 'DEVONIAN-PERMIAN']\"\n",
      "\"['4', 'DEVONIAN-PERMIAN']\"\n",
      "\"['4', '0', 'DEVONIAN-PERMIAN']\"\n",
      "\"['OIL', 'PALEOZOIC-CRETACEOUS']\"\n",
      "\"['4', 'PALEOZOIC-CRETACEOUS']\"\n",
      "\"['4', '2', 'PALEOZOIC-CRETACEOUS']\"\n",
      "\"['OIL', 'PALEOZOIC']\"\n",
      "\"['4', 'PALEOZOIC']\"\n",
      "\"['4', '2', 'PALEOZOIC']\"\n",
      "e:\\Graphologists-master\\venv\\lib\\site-packages\\sklearn\\metrics\\_classification.py:208: FutureWarning: elementwise comparison failed; returning scalar instead, but in the future will perform elementwise comparison\n",
      "  score = y_true == y_pred\n",
      "e:\\Graphologists-master\\venv\\lib\\site-packages\\sklearn\\metrics\\_classification.py:208: FutureWarning: elementwise comparison failed; returning scalar instead, but in the future will perform elementwise comparison\n",
      "  score = y_true == y_pred\n",
      "e:\\Graphologists-master\\venv\\lib\\site-packages\\sklearn\\metrics\\_classification.py:208: FutureWarning: elementwise comparison failed; returning scalar instead, but in the future will perform elementwise comparison\n",
      "  score = y_true == y_pred\n",
      "e:\\Graphologists-master\\venv\\lib\\site-packages\\sklearn\\metrics\\_classification.py:208: FutureWarning: elementwise comparison failed; returning scalar instead, but in the future will perform elementwise comparison\n",
      "  score = y_true == y_pred\n",
      "e:\\Graphologists-master\\venv\\lib\\site-packages\\sklearn\\metrics\\_classification.py:208: FutureWarning: elementwise comparison failed; returning scalar instead, but in the future will perform elementwise comparison\n",
      "  score = y_true == y_pred\n"
     ]
    }
   ],
   "source": [
    "acc, rmse, real, pred = calculate_acc(geo_bn, test_discrete, columns, 'nrmse')"
   ]
  },
  {
   "cell_type": "code",
   "execution_count": 37,
   "metadata": {},
   "outputs": [
    {
     "output_type": "execute_result",
     "data": {
      "text/plain": [
       "{'Tectonic regime': 0.58,\n",
       " 'Period': 0.27,\n",
       " 'Lithology': 0.51,\n",
       " 'Structural setting': 0.31,\n",
       " 'Hydrocarbon type': 0.67,\n",
       " 'Gross': 0.0,\n",
       " 'Netpay': 0.0,\n",
       " 'Porosity': 0.0,\n",
       " 'Permeability': 0.0,\n",
       " 'Depth': 0.0}"
      ]
     },
     "metadata": {},
     "execution_count": 37
    }
   ],
   "source": [
    "acc"
   ]
  },
  {
   "cell_type": "code",
   "execution_count": 38,
   "metadata": {},
   "outputs": [],
   "source": [
    "for key in colums_for_code:\n",
    "    df_result_accuracy = df_result_accuracy.append({'Parameter': key, 'Strategy': 'evo', 'Alg':'D+D','accuracy':acc[key]}, ignore_index=True)"
   ]
  },
  {
   "cell_type": "code",
   "execution_count": 40,
   "metadata": {},
   "outputs": [
    {
     "output_type": "error",
     "ename": "ValueError",
     "evalue": "Shape of passed values is (5, 1), indices imply (5, 5)",
     "traceback": [
      "\u001b[1;31m---------------------------------------------------------------------------\u001b[0m",
      "\u001b[1;31mValueError\u001b[0m                                Traceback (most recent call last)",
      "\u001b[1;32me:\\Graphologists-master\\venv\\lib\\site-packages\\pandas\\core\\internals\\managers.py\u001b[0m in \u001b[0;36mcreate_block_manager_from_blocks\u001b[1;34m(blocks, axes)\u001b[0m\n\u001b[0;32m   1674\u001b[0m                 blocks = [\n\u001b[1;32m-> 1675\u001b[1;33m                     make_block(\n\u001b[0m\u001b[0;32m   1676\u001b[0m                         \u001b[0mvalues\u001b[0m\u001b[1;33m=\u001b[0m\u001b[0mblocks\u001b[0m\u001b[1;33m[\u001b[0m\u001b[1;36m0\u001b[0m\u001b[1;33m]\u001b[0m\u001b[1;33m,\u001b[0m \u001b[0mplacement\u001b[0m\u001b[1;33m=\u001b[0m\u001b[0mslice\u001b[0m\u001b[1;33m(\u001b[0m\u001b[1;36m0\u001b[0m\u001b[1;33m,\u001b[0m \u001b[0mlen\u001b[0m\u001b[1;33m(\u001b[0m\u001b[0maxes\u001b[0m\u001b[1;33m[\u001b[0m\u001b[1;36m0\u001b[0m\u001b[1;33m]\u001b[0m\u001b[1;33m)\u001b[0m\u001b[1;33m)\u001b[0m\u001b[1;33m,\u001b[0m \u001b[0mndim\u001b[0m\u001b[1;33m=\u001b[0m\u001b[1;36m2\u001b[0m\u001b[1;33m\u001b[0m\u001b[1;33m\u001b[0m\u001b[0m\n",
      "\u001b[1;32me:\\Graphologists-master\\venv\\lib\\site-packages\\pandas\\core\\internals\\blocks.py\u001b[0m in \u001b[0;36mmake_block\u001b[1;34m(values, placement, klass, ndim, dtype)\u001b[0m\n\u001b[0;32m   2731\u001b[0m \u001b[1;33m\u001b[0m\u001b[0m\n\u001b[1;32m-> 2732\u001b[1;33m     \u001b[1;32mreturn\u001b[0m \u001b[0mklass\u001b[0m\u001b[1;33m(\u001b[0m\u001b[0mvalues\u001b[0m\u001b[1;33m,\u001b[0m \u001b[0mndim\u001b[0m\u001b[1;33m=\u001b[0m\u001b[0mndim\u001b[0m\u001b[1;33m,\u001b[0m \u001b[0mplacement\u001b[0m\u001b[1;33m=\u001b[0m\u001b[0mplacement\u001b[0m\u001b[1;33m)\u001b[0m\u001b[1;33m\u001b[0m\u001b[1;33m\u001b[0m\u001b[0m\n\u001b[0m\u001b[0;32m   2733\u001b[0m \u001b[1;33m\u001b[0m\u001b[0m\n",
      "\u001b[1;32me:\\Graphologists-master\\venv\\lib\\site-packages\\pandas\\core\\internals\\blocks.py\u001b[0m in \u001b[0;36m__init__\u001b[1;34m(self, values, placement, ndim)\u001b[0m\n\u001b[0;32m    141\u001b[0m         \u001b[1;32mif\u001b[0m \u001b[0mself\u001b[0m\u001b[1;33m.\u001b[0m\u001b[0m_validate_ndim\u001b[0m \u001b[1;32mand\u001b[0m \u001b[0mself\u001b[0m\u001b[1;33m.\u001b[0m\u001b[0mndim\u001b[0m \u001b[1;32mand\u001b[0m \u001b[0mlen\u001b[0m\u001b[1;33m(\u001b[0m\u001b[0mself\u001b[0m\u001b[1;33m.\u001b[0m\u001b[0mmgr_locs\u001b[0m\u001b[1;33m)\u001b[0m \u001b[1;33m!=\u001b[0m \u001b[0mlen\u001b[0m\u001b[1;33m(\u001b[0m\u001b[0mself\u001b[0m\u001b[1;33m.\u001b[0m\u001b[0mvalues\u001b[0m\u001b[1;33m)\u001b[0m\u001b[1;33m:\u001b[0m\u001b[1;33m\u001b[0m\u001b[1;33m\u001b[0m\u001b[0m\n\u001b[1;32m--> 142\u001b[1;33m             raise ValueError(\n\u001b[0m\u001b[0;32m    143\u001b[0m                 \u001b[1;34mf\"Wrong number of items passed {len(self.values)}, \"\u001b[0m\u001b[1;33m\u001b[0m\u001b[1;33m\u001b[0m\u001b[0m\n",
      "\u001b[1;31mValueError\u001b[0m: Wrong number of items passed 1, placement implies 5",
      "\nDuring handling of the above exception, another exception occurred:\n",
      "\u001b[1;31mValueError\u001b[0m                                Traceback (most recent call last)",
      "\u001b[1;32m<ipython-input-40-86ca6d356ba9>\u001b[0m in \u001b[0;36m<module>\u001b[1;34m\u001b[0m\n\u001b[1;32m----> 1\u001b[1;33m \u001b[0minvers_real\u001b[0m \u001b[1;33m=\u001b[0m \u001b[0minverse_discretization\u001b[0m\u001b[1;33m(\u001b[0m\u001b[0mpd\u001b[0m\u001b[1;33m.\u001b[0m\u001b[0mDataFrame\u001b[0m\u001b[1;33m(\u001b[0m\u001b[0mnp\u001b[0m\u001b[1;33m.\u001b[0m\u001b[0mtranspose\u001b[0m\u001b[1;33m(\u001b[0m\u001b[0mreal\u001b[0m\u001b[1;33m[\u001b[0m\u001b[1;36m5\u001b[0m\u001b[1;33m:\u001b[0m\u001b[1;36m10\u001b[0m\u001b[1;33m]\u001b[0m\u001b[1;33m)\u001b[0m\u001b[1;33m,\u001b[0m \u001b[0mcolumns\u001b[0m\u001b[1;33m=\u001b[0m\u001b[1;33m[\u001b[0m\u001b[1;34m'Gross'\u001b[0m\u001b[1;33m,\u001b[0m \u001b[1;34m'Netpay'\u001b[0m\u001b[1;33m,\u001b[0m \u001b[1;34m'Porosity'\u001b[0m\u001b[1;33m,\u001b[0m \u001b[1;34m'Permeability'\u001b[0m\u001b[1;33m,\u001b[0m \u001b[1;34m'Depth'\u001b[0m\u001b[1;33m]\u001b[0m\u001b[1;33m)\u001b[0m\u001b[1;33m,\u001b[0m \u001b[1;33m[\u001b[0m\u001b[1;34m'Gross'\u001b[0m\u001b[1;33m,\u001b[0m \u001b[1;34m'Netpay'\u001b[0m\u001b[1;33m,\u001b[0m \u001b[1;34m'Porosity'\u001b[0m\u001b[1;33m,\u001b[0m \u001b[1;34m'Permeability'\u001b[0m\u001b[1;33m,\u001b[0m \u001b[1;34m'Depth'\u001b[0m\u001b[1;33m]\u001b[0m\u001b[1;33m,\u001b[0m \u001b[0mdiscrete_coder\u001b[0m\u001b[1;33m)\u001b[0m\u001b[1;33m\u001b[0m\u001b[1;33m\u001b[0m\u001b[0m\n\u001b[0m",
      "\u001b[1;32me:\\Graphologists-master\\venv\\lib\\site-packages\\pandas\\core\\frame.py\u001b[0m in \u001b[0;36m__init__\u001b[1;34m(self, data, index, columns, dtype, copy)\u001b[0m\n\u001b[0;32m    556\u001b[0m                 \u001b[0mmgr\u001b[0m \u001b[1;33m=\u001b[0m \u001b[0minit_dict\u001b[0m\u001b[1;33m(\u001b[0m\u001b[1;33m{\u001b[0m\u001b[0mdata\u001b[0m\u001b[1;33m.\u001b[0m\u001b[0mname\u001b[0m\u001b[1;33m:\u001b[0m \u001b[0mdata\u001b[0m\u001b[1;33m}\u001b[0m\u001b[1;33m,\u001b[0m \u001b[0mindex\u001b[0m\u001b[1;33m,\u001b[0m \u001b[0mcolumns\u001b[0m\u001b[1;33m,\u001b[0m \u001b[0mdtype\u001b[0m\u001b[1;33m=\u001b[0m\u001b[0mdtype\u001b[0m\u001b[1;33m)\u001b[0m\u001b[1;33m\u001b[0m\u001b[1;33m\u001b[0m\u001b[0m\n\u001b[0;32m    557\u001b[0m             \u001b[1;32melse\u001b[0m\u001b[1;33m:\u001b[0m\u001b[1;33m\u001b[0m\u001b[1;33m\u001b[0m\u001b[0m\n\u001b[1;32m--> 558\u001b[1;33m                 \u001b[0mmgr\u001b[0m \u001b[1;33m=\u001b[0m \u001b[0minit_ndarray\u001b[0m\u001b[1;33m(\u001b[0m\u001b[0mdata\u001b[0m\u001b[1;33m,\u001b[0m \u001b[0mindex\u001b[0m\u001b[1;33m,\u001b[0m \u001b[0mcolumns\u001b[0m\u001b[1;33m,\u001b[0m \u001b[0mdtype\u001b[0m\u001b[1;33m=\u001b[0m\u001b[0mdtype\u001b[0m\u001b[1;33m,\u001b[0m \u001b[0mcopy\u001b[0m\u001b[1;33m=\u001b[0m\u001b[0mcopy\u001b[0m\u001b[1;33m)\u001b[0m\u001b[1;33m\u001b[0m\u001b[1;33m\u001b[0m\u001b[0m\n\u001b[0m\u001b[0;32m    559\u001b[0m \u001b[1;33m\u001b[0m\u001b[0m\n\u001b[0;32m    560\u001b[0m         \u001b[1;31m# For data is list-like, or Iterable (will consume into list)\u001b[0m\u001b[1;33m\u001b[0m\u001b[1;33m\u001b[0m\u001b[1;33m\u001b[0m\u001b[0m\n",
      "\u001b[1;32me:\\Graphologists-master\\venv\\lib\\site-packages\\pandas\\core\\internals\\construction.py\u001b[0m in \u001b[0;36minit_ndarray\u001b[1;34m(values, index, columns, dtype, copy)\u001b[0m\n\u001b[0;32m    236\u001b[0m         \u001b[0mblock_values\u001b[0m \u001b[1;33m=\u001b[0m \u001b[1;33m[\u001b[0m\u001b[0mvalues\u001b[0m\u001b[1;33m]\u001b[0m\u001b[1;33m\u001b[0m\u001b[1;33m\u001b[0m\u001b[0m\n\u001b[0;32m    237\u001b[0m \u001b[1;33m\u001b[0m\u001b[0m\n\u001b[1;32m--> 238\u001b[1;33m     \u001b[1;32mreturn\u001b[0m \u001b[0mcreate_block_manager_from_blocks\u001b[0m\u001b[1;33m(\u001b[0m\u001b[0mblock_values\u001b[0m\u001b[1;33m,\u001b[0m \u001b[1;33m[\u001b[0m\u001b[0mcolumns\u001b[0m\u001b[1;33m,\u001b[0m \u001b[0mindex\u001b[0m\u001b[1;33m]\u001b[0m\u001b[1;33m)\u001b[0m\u001b[1;33m\u001b[0m\u001b[1;33m\u001b[0m\u001b[0m\n\u001b[0m\u001b[0;32m    239\u001b[0m \u001b[1;33m\u001b[0m\u001b[0m\n\u001b[0;32m    240\u001b[0m \u001b[1;33m\u001b[0m\u001b[0m\n",
      "\u001b[1;32me:\\Graphologists-master\\venv\\lib\\site-packages\\pandas\\core\\internals\\managers.py\u001b[0m in \u001b[0;36mcreate_block_manager_from_blocks\u001b[1;34m(blocks, axes)\u001b[0m\n\u001b[0;32m   1685\u001b[0m         \u001b[0mblocks\u001b[0m \u001b[1;33m=\u001b[0m \u001b[1;33m[\u001b[0m\u001b[0mgetattr\u001b[0m\u001b[1;33m(\u001b[0m\u001b[0mb\u001b[0m\u001b[1;33m,\u001b[0m \u001b[1;34m\"values\"\u001b[0m\u001b[1;33m,\u001b[0m \u001b[0mb\u001b[0m\u001b[1;33m)\u001b[0m \u001b[1;32mfor\u001b[0m \u001b[0mb\u001b[0m \u001b[1;32min\u001b[0m \u001b[0mblocks\u001b[0m\u001b[1;33m]\u001b[0m\u001b[1;33m\u001b[0m\u001b[1;33m\u001b[0m\u001b[0m\n\u001b[0;32m   1686\u001b[0m         \u001b[0mtot_items\u001b[0m \u001b[1;33m=\u001b[0m \u001b[0msum\u001b[0m\u001b[1;33m(\u001b[0m\u001b[0mb\u001b[0m\u001b[1;33m.\u001b[0m\u001b[0mshape\u001b[0m\u001b[1;33m[\u001b[0m\u001b[1;36m0\u001b[0m\u001b[1;33m]\u001b[0m \u001b[1;32mfor\u001b[0m \u001b[0mb\u001b[0m \u001b[1;32min\u001b[0m \u001b[0mblocks\u001b[0m\u001b[1;33m)\u001b[0m\u001b[1;33m\u001b[0m\u001b[1;33m\u001b[0m\u001b[0m\n\u001b[1;32m-> 1687\u001b[1;33m         \u001b[1;32mraise\u001b[0m \u001b[0mconstruction_error\u001b[0m\u001b[1;33m(\u001b[0m\u001b[0mtot_items\u001b[0m\u001b[1;33m,\u001b[0m \u001b[0mblocks\u001b[0m\u001b[1;33m[\u001b[0m\u001b[1;36m0\u001b[0m\u001b[1;33m]\u001b[0m\u001b[1;33m.\u001b[0m\u001b[0mshape\u001b[0m\u001b[1;33m[\u001b[0m\u001b[1;36m1\u001b[0m\u001b[1;33m:\u001b[0m\u001b[1;33m]\u001b[0m\u001b[1;33m,\u001b[0m \u001b[0maxes\u001b[0m\u001b[1;33m,\u001b[0m \u001b[0me\u001b[0m\u001b[1;33m)\u001b[0m\u001b[1;33m\u001b[0m\u001b[1;33m\u001b[0m\u001b[0m\n\u001b[0m\u001b[0;32m   1688\u001b[0m \u001b[1;33m\u001b[0m\u001b[0m\n\u001b[0;32m   1689\u001b[0m \u001b[1;33m\u001b[0m\u001b[0m\n",
      "\u001b[1;31mValueError\u001b[0m: Shape of passed values is (5, 1), indices imply (5, 5)"
     ]
    }
   ],
   "source": [
    "invers_real = inverse_discretization(pd.DataFrame(np.transpose(real[5:10]), columns=['Gross', 'Netpay', 'Porosity', 'Permeability', 'Depth']), ['Gross', 'Netpay', 'Porosity', 'Permeability', 'Depth'], discrete_coder)"
   ]
  },
  {
   "cell_type": "code",
   "execution_count": 48,
   "metadata": {},
   "outputs": [],
   "source": [
    "invers_pred = inverse_discretization(pd.DataFrame(np.transpose(pred[5:10]), columns=['Gross', 'Netpay', 'Porosity', 'Permeability', 'Depth']), ['Gross', 'Netpay', 'Porosity', 'Permeability', 'Depth'], discrete_coder)"
   ]
  },
  {
   "cell_type": "code",
   "execution_count": 49,
   "metadata": {},
   "outputs": [],
   "source": [
    "mean_squared_error(invers_real['Gross'], invers_pred['Gross'], squared=False)\n",
    "df_result_rmse = df_result_rmse.append({'Parameter': 'Gross', 'Strategy': 'evo', 'Alg':'D+D','rmse':mean_squared_error(invers_real['Gross'], invers_pred['Gross'], squared=False)}, ignore_index=True)"
   ]
  },
  {
   "cell_type": "code",
   "execution_count": 50,
   "metadata": {},
   "outputs": [],
   "source": [
    "mean_squared_error(invers_real['Netpay'], invers_pred['Netpay'], squared=False)\n",
    "df_result_rmse = df_result_rmse.append({'Parameter': 'Netpay', 'Strategy': 'evo', 'Alg':'D+D','rmse':mean_squared_error(invers_real['Netpay'], invers_pred['Netpay'], squared=False)}, ignore_index=True)"
   ]
  },
  {
   "cell_type": "code",
   "execution_count": 51,
   "metadata": {},
   "outputs": [],
   "source": [
    "mean_squared_error(invers_real['Porosity'], invers_pred['Porosity'], squared=False)\n",
    "df_result_rmse = df_result_rmse.append({'Parameter': 'Porosity', 'Strategy': 'evo', 'Alg':'D+D','rmse':mean_squared_error(invers_real['Porosity'], invers_pred['Porosity'], squared=False)}, ignore_index=True)\n"
   ]
  },
  {
   "cell_type": "code",
   "execution_count": 52,
   "metadata": {},
   "outputs": [],
   "source": [
    "mean_squared_error(invers_real['Permeability'], invers_pred['Permeability'], squared=False)\n",
    "df_result_rmse = df_result_rmse.append({'Parameter': 'Permeability', 'Strategy': 'evo', 'Alg':'D+D','rmse':mean_squared_error(invers_real['Permeability'], invers_pred['Permeability'], squared=False)}, ignore_index=True)"
   ]
  },
  {
   "cell_type": "code",
   "execution_count": 53,
   "metadata": {},
   "outputs": [],
   "source": [
    "mean_squared_error(invers_real['Depth'], invers_pred['Depth'], squared=False)\n",
    "df_result_rmse = df_result_rmse.append({'Parameter': 'Depth', 'Strategy': 'evo', 'Alg':'D+D','rmse':mean_squared_error(invers_real['Depth'], invers_pred['Depth'], squared=False)}, ignore_index=True)"
   ]
  },
  {
   "source": [
    "# Смешанная структура + дискретные параметры"
   ],
   "cell_type": "markdown",
   "metadata": {}
  },
  {
   "cell_type": "code",
   "execution_count": 41,
   "metadata": {
    "tags": []
   },
   "outputs": [
    {
     "output_type": "stream",
     "name": "stdout",
     "text": [
      "Best metric is 19.273121801641018\n",
      "Generation num: 0\n",
      "max_depth: 8, no improvements: 0\n",
      "spent time: 1.7 min\n",
      "Best metric is 18.56163884911347\n",
      "Generation num: 1\n",
      "max_depth: 8, no improvements: 0\n",
      "spent time: 2.6 min\n",
      "Best metric is 17.63554015455071\n",
      "Generation num: 2\n",
      "max_depth: 8, no improvements: 0\n",
      "spent time: 3.3 min\n",
      "Best metric is 17.63554015455071\n",
      "Generation num: 3\n",
      "max_depth: 8, no improvements: 1\n",
      "spent time: 4.1 min\n",
      "Best metric is 17.63554015455071\n",
      "Generation num: 4\n",
      "max_depth: 8, no improvements: 2\n",
      "Number of mutation attempts exceeded. Please check composer requirements for correctness.\n",
      "spent time: 6.0 min\n",
      "Best metric is 17.63554015455071\n",
      "Generation num: 5\n",
      "max_depth: 8, no improvements: 3\n",
      "spent time: 6.8 min\n",
      "Best metric is 17.63554015455071\n",
      "Generation num: 6\n",
      "max_depth: 8, no improvements: 4\n",
      "spent time: 7.6 min\n",
      "Best metric is 17.63554015455071\n",
      "Generation num: 7\n",
      "max_depth: 8, no improvements: 5\n",
      "spent time: 8.4 min\n",
      "Best metric is 17.63554015455071\n",
      "Generation num: 8\n",
      "max_depth: 8, no improvements: 6\n",
      "spent time: 9.2 min\n",
      "Best metric is 17.63554015455071\n",
      "Generation num: 9\n",
      "max_depth: 8, no improvements: 7\n",
      "spent time: 9.9 min\n",
      "Best metric is 17.63554015455071\n",
      "Generation num: 10\n",
      "max_depth: 8, no improvements: 8\n",
      "spent time: 10.7 min\n",
      "Best metric is 17.63554015455071\n",
      "Generation num: 11\n",
      "max_depth: 8, no improvements: 9\n",
      "spent time: 11.5 min\n",
      "Best metric is 17.63554015455071\n",
      "Generation num: 12\n",
      "max_depth: 8, no improvements: 10\n",
      "spent time: 12.3 min\n",
      "Best metric is 17.63554015455071\n",
      "Generation num: 13\n",
      "max_depth: 8, no improvements: 11\n",
      "spent time: 13.1 min\n",
      "Best metric is 17.63554015455071\n",
      "Result:\n",
      "Best metric is 17.63554015455071\n",
      "Composition time: 13.066 min\n"
     ]
    }
   ],
   "source": [
    "bn_geo = structure_learning(geo_coded, 'evo', geo_new_types, method)"
   ]
  },
  {
   "cell_type": "code",
   "execution_count": 42,
   "metadata": {},
   "outputs": [
    {
     "output_type": "execute_result",
     "data": {
      "text/plain": [
       "<IPython.lib.display.IFrame at 0x18ce7b2be50>"
      ],
      "text/html": "\n        <iframe\n            width=\"100%\"\n            height=\"800px\"\n            src=\"../visualization_result/geo_net.html\"\n            frameborder=\"0\"\n            allowfullscreen\n        ></iframe>\n        "
     },
     "metadata": {},
     "execution_count": 42
    }
   ],
   "source": [
    "draw_BN(bn_geo, geo_types, 'geo_net')"
   ]
  },
  {
   "cell_type": "code",
   "execution_count": 43,
   "metadata": {},
   "outputs": [],
   "source": [
    "params = parameter_learning(geo_only_discrete, geo_new_types, bn_geo, 'simple')"
   ]
  },
  {
   "cell_type": "code",
   "execution_count": 44,
   "metadata": {},
   "outputs": [],
   "source": [
    "save_structure(bn_geo, 'geo_net')\n",
    "skel = read_structure('geo_net')\n",
    "save_params(params, 'geo_net_param')\n",
    "params = read_params('geo_net_param')\n",
    "geo_bn = HyBayesianNetwork(skel, params)"
   ]
  },
  {
   "cell_type": "code",
   "execution_count": 45,
   "metadata": {},
   "outputs": [
    {
     "output_type": "stream",
     "name": "stdout",
     "text": [
      "\"['0', 'MESOZOIC']\"\n",
      "\"['1', 'DEVONIAN-PERMIAN']\"\n",
      "\"['3', 'PALEOZOIC-CRETACEOUS']\"\n",
      "\"['GLAUCONITIC SANDSTONE', '0']\"\n",
      "\"['2', 'PALEOZOIC']\"\n",
      "e:\\Graphologists-master\\venv\\lib\\site-packages\\sklearn\\metrics\\_classification.py:208: FutureWarning: elementwise comparison failed; returning scalar instead, but in the future will perform elementwise comparison\n",
      "  score = y_true == y_pred\n",
      "e:\\Graphologists-master\\venv\\lib\\site-packages\\sklearn\\metrics\\_classification.py:208: FutureWarning: elementwise comparison failed; returning scalar instead, but in the future will perform elementwise comparison\n",
      "  score = y_true == y_pred\n",
      "e:\\Graphologists-master\\venv\\lib\\site-packages\\sklearn\\metrics\\_classification.py:208: FutureWarning: elementwise comparison failed; returning scalar instead, but in the future will perform elementwise comparison\n",
      "  score = y_true == y_pred\n",
      "e:\\Graphologists-master\\venv\\lib\\site-packages\\sklearn\\metrics\\_classification.py:208: FutureWarning: elementwise comparison failed; returning scalar instead, but in the future will perform elementwise comparison\n",
      "  score = y_true == y_pred\n",
      "e:\\Graphologists-master\\venv\\lib\\site-packages\\sklearn\\metrics\\_classification.py:208: FutureWarning: elementwise comparison failed; returning scalar instead, but in the future will perform elementwise comparison\n",
      "  score = y_true == y_pred\n"
     ]
    }
   ],
   "source": [
    "acc, rmse, real, pred = calculate_acc(geo_bn, test_discrete, columns, 'nrmse')"
   ]
  },
  {
   "cell_type": "code",
   "execution_count": 46,
   "metadata": {},
   "outputs": [
    {
     "output_type": "execute_result",
     "data": {
      "text/plain": [
       "{'Tectonic regime': 0.58,\n",
       " 'Period': 0.27,\n",
       " 'Lithology': 0.51,\n",
       " 'Structural setting': 0.31,\n",
       " 'Hydrocarbon type': 0.67,\n",
       " 'Gross': 0.0,\n",
       " 'Netpay': 0.0,\n",
       " 'Porosity': 0.0,\n",
       " 'Permeability': 0.0,\n",
       " 'Depth': 0.0}"
      ]
     },
     "metadata": {},
     "execution_count": 46
    }
   ],
   "source": [
    "acc"
   ]
  },
  {
   "cell_type": "code",
   "execution_count": 47,
   "metadata": {},
   "outputs": [],
   "source": [
    "for key in colums_for_code:\n",
    "    df_result_accuracy = df_result_accuracy.append({'Parameter': key, 'Strategy': 'evo', 'Alg':'M+D','accuracy':acc[key]}, ignore_index=True)"
   ]
  },
  {
   "cell_type": "code",
   "execution_count": 48,
   "metadata": {},
   "outputs": [
    {
     "output_type": "stream",
     "name": "stderr",
     "text": [
      "e:\\Graphologists-master\\venv\\lib\\site-packages\\numpy\\core\\_asarray.py:83: VisibleDeprecationWarning: Creating an ndarray from ragged nested sequences (which is a list-or-tuple of lists-or-tuples-or ndarrays with different lengths or shapes) is deprecated. If you meant to do this, you must specify 'dtype=object' when creating the ndarray\n  return array(a, dtype, copy=False, order=order)\n"
     ]
    },
    {
     "output_type": "error",
     "ename": "ValueError",
     "evalue": "Shape of passed values is (5, 1), indices imply (5, 5)",
     "traceback": [
      "\u001b[1;31m---------------------------------------------------------------------------\u001b[0m",
      "\u001b[1;31mValueError\u001b[0m                                Traceback (most recent call last)",
      "\u001b[1;32me:\\Graphologists-master\\venv\\lib\\site-packages\\pandas\\core\\internals\\managers.py\u001b[0m in \u001b[0;36mcreate_block_manager_from_blocks\u001b[1;34m(blocks, axes)\u001b[0m\n\u001b[0;32m   1674\u001b[0m                 blocks = [\n\u001b[1;32m-> 1675\u001b[1;33m                     make_block(\n\u001b[0m\u001b[0;32m   1676\u001b[0m                         \u001b[0mvalues\u001b[0m\u001b[1;33m=\u001b[0m\u001b[0mblocks\u001b[0m\u001b[1;33m[\u001b[0m\u001b[1;36m0\u001b[0m\u001b[1;33m]\u001b[0m\u001b[1;33m,\u001b[0m \u001b[0mplacement\u001b[0m\u001b[1;33m=\u001b[0m\u001b[0mslice\u001b[0m\u001b[1;33m(\u001b[0m\u001b[1;36m0\u001b[0m\u001b[1;33m,\u001b[0m \u001b[0mlen\u001b[0m\u001b[1;33m(\u001b[0m\u001b[0maxes\u001b[0m\u001b[1;33m[\u001b[0m\u001b[1;36m0\u001b[0m\u001b[1;33m]\u001b[0m\u001b[1;33m)\u001b[0m\u001b[1;33m)\u001b[0m\u001b[1;33m,\u001b[0m \u001b[0mndim\u001b[0m\u001b[1;33m=\u001b[0m\u001b[1;36m2\u001b[0m\u001b[1;33m\u001b[0m\u001b[1;33m\u001b[0m\u001b[0m\n",
      "\u001b[1;32me:\\Graphologists-master\\venv\\lib\\site-packages\\pandas\\core\\internals\\blocks.py\u001b[0m in \u001b[0;36mmake_block\u001b[1;34m(values, placement, klass, ndim, dtype)\u001b[0m\n\u001b[0;32m   2731\u001b[0m \u001b[1;33m\u001b[0m\u001b[0m\n\u001b[1;32m-> 2732\u001b[1;33m     \u001b[1;32mreturn\u001b[0m \u001b[0mklass\u001b[0m\u001b[1;33m(\u001b[0m\u001b[0mvalues\u001b[0m\u001b[1;33m,\u001b[0m \u001b[0mndim\u001b[0m\u001b[1;33m=\u001b[0m\u001b[0mndim\u001b[0m\u001b[1;33m,\u001b[0m \u001b[0mplacement\u001b[0m\u001b[1;33m=\u001b[0m\u001b[0mplacement\u001b[0m\u001b[1;33m)\u001b[0m\u001b[1;33m\u001b[0m\u001b[1;33m\u001b[0m\u001b[0m\n\u001b[0m\u001b[0;32m   2733\u001b[0m \u001b[1;33m\u001b[0m\u001b[0m\n",
      "\u001b[1;32me:\\Graphologists-master\\venv\\lib\\site-packages\\pandas\\core\\internals\\blocks.py\u001b[0m in \u001b[0;36m__init__\u001b[1;34m(self, values, placement, ndim)\u001b[0m\n\u001b[0;32m    141\u001b[0m         \u001b[1;32mif\u001b[0m \u001b[0mself\u001b[0m\u001b[1;33m.\u001b[0m\u001b[0m_validate_ndim\u001b[0m \u001b[1;32mand\u001b[0m \u001b[0mself\u001b[0m\u001b[1;33m.\u001b[0m\u001b[0mndim\u001b[0m \u001b[1;32mand\u001b[0m \u001b[0mlen\u001b[0m\u001b[1;33m(\u001b[0m\u001b[0mself\u001b[0m\u001b[1;33m.\u001b[0m\u001b[0mmgr_locs\u001b[0m\u001b[1;33m)\u001b[0m \u001b[1;33m!=\u001b[0m \u001b[0mlen\u001b[0m\u001b[1;33m(\u001b[0m\u001b[0mself\u001b[0m\u001b[1;33m.\u001b[0m\u001b[0mvalues\u001b[0m\u001b[1;33m)\u001b[0m\u001b[1;33m:\u001b[0m\u001b[1;33m\u001b[0m\u001b[1;33m\u001b[0m\u001b[0m\n\u001b[1;32m--> 142\u001b[1;33m             raise ValueError(\n\u001b[0m\u001b[0;32m    143\u001b[0m                 \u001b[1;34mf\"Wrong number of items passed {len(self.values)}, \"\u001b[0m\u001b[1;33m\u001b[0m\u001b[1;33m\u001b[0m\u001b[0m\n",
      "\u001b[1;31mValueError\u001b[0m: Wrong number of items passed 1, placement implies 5",
      "\nDuring handling of the above exception, another exception occurred:\n",
      "\u001b[1;31mValueError\u001b[0m                                Traceback (most recent call last)",
      "\u001b[1;32m<ipython-input-48-86ca6d356ba9>\u001b[0m in \u001b[0;36m<module>\u001b[1;34m\u001b[0m\n\u001b[1;32m----> 1\u001b[1;33m \u001b[0minvers_real\u001b[0m \u001b[1;33m=\u001b[0m \u001b[0minverse_discretization\u001b[0m\u001b[1;33m(\u001b[0m\u001b[0mpd\u001b[0m\u001b[1;33m.\u001b[0m\u001b[0mDataFrame\u001b[0m\u001b[1;33m(\u001b[0m\u001b[0mnp\u001b[0m\u001b[1;33m.\u001b[0m\u001b[0mtranspose\u001b[0m\u001b[1;33m(\u001b[0m\u001b[0mreal\u001b[0m\u001b[1;33m[\u001b[0m\u001b[1;36m5\u001b[0m\u001b[1;33m:\u001b[0m\u001b[1;36m10\u001b[0m\u001b[1;33m]\u001b[0m\u001b[1;33m)\u001b[0m\u001b[1;33m,\u001b[0m \u001b[0mcolumns\u001b[0m\u001b[1;33m=\u001b[0m\u001b[1;33m[\u001b[0m\u001b[1;34m'Gross'\u001b[0m\u001b[1;33m,\u001b[0m \u001b[1;34m'Netpay'\u001b[0m\u001b[1;33m,\u001b[0m \u001b[1;34m'Porosity'\u001b[0m\u001b[1;33m,\u001b[0m \u001b[1;34m'Permeability'\u001b[0m\u001b[1;33m,\u001b[0m \u001b[1;34m'Depth'\u001b[0m\u001b[1;33m]\u001b[0m\u001b[1;33m)\u001b[0m\u001b[1;33m,\u001b[0m \u001b[1;33m[\u001b[0m\u001b[1;34m'Gross'\u001b[0m\u001b[1;33m,\u001b[0m \u001b[1;34m'Netpay'\u001b[0m\u001b[1;33m,\u001b[0m \u001b[1;34m'Porosity'\u001b[0m\u001b[1;33m,\u001b[0m \u001b[1;34m'Permeability'\u001b[0m\u001b[1;33m,\u001b[0m \u001b[1;34m'Depth'\u001b[0m\u001b[1;33m]\u001b[0m\u001b[1;33m,\u001b[0m \u001b[0mdiscrete_coder\u001b[0m\u001b[1;33m)\u001b[0m\u001b[1;33m\u001b[0m\u001b[1;33m\u001b[0m\u001b[0m\n\u001b[0m",
      "\u001b[1;32me:\\Graphologists-master\\venv\\lib\\site-packages\\pandas\\core\\frame.py\u001b[0m in \u001b[0;36m__init__\u001b[1;34m(self, data, index, columns, dtype, copy)\u001b[0m\n\u001b[0;32m    556\u001b[0m                 \u001b[0mmgr\u001b[0m \u001b[1;33m=\u001b[0m \u001b[0minit_dict\u001b[0m\u001b[1;33m(\u001b[0m\u001b[1;33m{\u001b[0m\u001b[0mdata\u001b[0m\u001b[1;33m.\u001b[0m\u001b[0mname\u001b[0m\u001b[1;33m:\u001b[0m \u001b[0mdata\u001b[0m\u001b[1;33m}\u001b[0m\u001b[1;33m,\u001b[0m \u001b[0mindex\u001b[0m\u001b[1;33m,\u001b[0m \u001b[0mcolumns\u001b[0m\u001b[1;33m,\u001b[0m \u001b[0mdtype\u001b[0m\u001b[1;33m=\u001b[0m\u001b[0mdtype\u001b[0m\u001b[1;33m)\u001b[0m\u001b[1;33m\u001b[0m\u001b[1;33m\u001b[0m\u001b[0m\n\u001b[0;32m    557\u001b[0m             \u001b[1;32melse\u001b[0m\u001b[1;33m:\u001b[0m\u001b[1;33m\u001b[0m\u001b[1;33m\u001b[0m\u001b[0m\n\u001b[1;32m--> 558\u001b[1;33m                 \u001b[0mmgr\u001b[0m \u001b[1;33m=\u001b[0m \u001b[0minit_ndarray\u001b[0m\u001b[1;33m(\u001b[0m\u001b[0mdata\u001b[0m\u001b[1;33m,\u001b[0m \u001b[0mindex\u001b[0m\u001b[1;33m,\u001b[0m \u001b[0mcolumns\u001b[0m\u001b[1;33m,\u001b[0m \u001b[0mdtype\u001b[0m\u001b[1;33m=\u001b[0m\u001b[0mdtype\u001b[0m\u001b[1;33m,\u001b[0m \u001b[0mcopy\u001b[0m\u001b[1;33m=\u001b[0m\u001b[0mcopy\u001b[0m\u001b[1;33m)\u001b[0m\u001b[1;33m\u001b[0m\u001b[1;33m\u001b[0m\u001b[0m\n\u001b[0m\u001b[0;32m    559\u001b[0m \u001b[1;33m\u001b[0m\u001b[0m\n\u001b[0;32m    560\u001b[0m         \u001b[1;31m# For data is list-like, or Iterable (will consume into list)\u001b[0m\u001b[1;33m\u001b[0m\u001b[1;33m\u001b[0m\u001b[1;33m\u001b[0m\u001b[0m\n",
      "\u001b[1;32me:\\Graphologists-master\\venv\\lib\\site-packages\\pandas\\core\\internals\\construction.py\u001b[0m in \u001b[0;36minit_ndarray\u001b[1;34m(values, index, columns, dtype, copy)\u001b[0m\n\u001b[0;32m    236\u001b[0m         \u001b[0mblock_values\u001b[0m \u001b[1;33m=\u001b[0m \u001b[1;33m[\u001b[0m\u001b[0mvalues\u001b[0m\u001b[1;33m]\u001b[0m\u001b[1;33m\u001b[0m\u001b[1;33m\u001b[0m\u001b[0m\n\u001b[0;32m    237\u001b[0m \u001b[1;33m\u001b[0m\u001b[0m\n\u001b[1;32m--> 238\u001b[1;33m     \u001b[1;32mreturn\u001b[0m \u001b[0mcreate_block_manager_from_blocks\u001b[0m\u001b[1;33m(\u001b[0m\u001b[0mblock_values\u001b[0m\u001b[1;33m,\u001b[0m \u001b[1;33m[\u001b[0m\u001b[0mcolumns\u001b[0m\u001b[1;33m,\u001b[0m \u001b[0mindex\u001b[0m\u001b[1;33m]\u001b[0m\u001b[1;33m)\u001b[0m\u001b[1;33m\u001b[0m\u001b[1;33m\u001b[0m\u001b[0m\n\u001b[0m\u001b[0;32m    239\u001b[0m \u001b[1;33m\u001b[0m\u001b[0m\n\u001b[0;32m    240\u001b[0m \u001b[1;33m\u001b[0m\u001b[0m\n",
      "\u001b[1;32me:\\Graphologists-master\\venv\\lib\\site-packages\\pandas\\core\\internals\\managers.py\u001b[0m in \u001b[0;36mcreate_block_manager_from_blocks\u001b[1;34m(blocks, axes)\u001b[0m\n\u001b[0;32m   1685\u001b[0m         \u001b[0mblocks\u001b[0m \u001b[1;33m=\u001b[0m \u001b[1;33m[\u001b[0m\u001b[0mgetattr\u001b[0m\u001b[1;33m(\u001b[0m\u001b[0mb\u001b[0m\u001b[1;33m,\u001b[0m \u001b[1;34m\"values\"\u001b[0m\u001b[1;33m,\u001b[0m \u001b[0mb\u001b[0m\u001b[1;33m)\u001b[0m \u001b[1;32mfor\u001b[0m \u001b[0mb\u001b[0m \u001b[1;32min\u001b[0m \u001b[0mblocks\u001b[0m\u001b[1;33m]\u001b[0m\u001b[1;33m\u001b[0m\u001b[1;33m\u001b[0m\u001b[0m\n\u001b[0;32m   1686\u001b[0m         \u001b[0mtot_items\u001b[0m \u001b[1;33m=\u001b[0m \u001b[0msum\u001b[0m\u001b[1;33m(\u001b[0m\u001b[0mb\u001b[0m\u001b[1;33m.\u001b[0m\u001b[0mshape\u001b[0m\u001b[1;33m[\u001b[0m\u001b[1;36m0\u001b[0m\u001b[1;33m]\u001b[0m \u001b[1;32mfor\u001b[0m \u001b[0mb\u001b[0m \u001b[1;32min\u001b[0m \u001b[0mblocks\u001b[0m\u001b[1;33m)\u001b[0m\u001b[1;33m\u001b[0m\u001b[1;33m\u001b[0m\u001b[0m\n\u001b[1;32m-> 1687\u001b[1;33m         \u001b[1;32mraise\u001b[0m \u001b[0mconstruction_error\u001b[0m\u001b[1;33m(\u001b[0m\u001b[0mtot_items\u001b[0m\u001b[1;33m,\u001b[0m \u001b[0mblocks\u001b[0m\u001b[1;33m[\u001b[0m\u001b[1;36m0\u001b[0m\u001b[1;33m]\u001b[0m\u001b[1;33m.\u001b[0m\u001b[0mshape\u001b[0m\u001b[1;33m[\u001b[0m\u001b[1;36m1\u001b[0m\u001b[1;33m:\u001b[0m\u001b[1;33m]\u001b[0m\u001b[1;33m,\u001b[0m \u001b[0maxes\u001b[0m\u001b[1;33m,\u001b[0m \u001b[0me\u001b[0m\u001b[1;33m)\u001b[0m\u001b[1;33m\u001b[0m\u001b[1;33m\u001b[0m\u001b[0m\n\u001b[0m\u001b[0;32m   1688\u001b[0m \u001b[1;33m\u001b[0m\u001b[0m\n\u001b[0;32m   1689\u001b[0m \u001b[1;33m\u001b[0m\u001b[0m\n",
      "\u001b[1;31mValueError\u001b[0m: Shape of passed values is (5, 1), indices imply (5, 5)"
     ]
    }
   ],
   "source": [
    "invers_real = inverse_discretization(pd.DataFrame(np.transpose(real[5:10]), columns=['Gross', 'Netpay', 'Porosity', 'Permeability', 'Depth']), ['Gross', 'Netpay', 'Porosity', 'Permeability', 'Depth'], discrete_coder)\n"
   ]
  },
  {
   "cell_type": "code",
   "execution_count": null,
   "metadata": {},
   "outputs": [],
   "source": [
    "invers_pred = inverse_discretization(pd.DataFrame(np.transpose(pred[5:10]), columns=['Gross', 'Netpay', 'Porosity', 'Permeability', 'Depth']), ['Gross', 'Netpay', 'Porosity', 'Permeability', 'Depth'], discrete_coder)"
   ]
  },
  {
   "cell_type": "code",
   "execution_count": null,
   "metadata": {},
   "outputs": [],
   "source": [
    "mean_squared_error(invers_real['Gross'], invers_pred['Gross'], squared=False)\n",
    "df_result_rmse = df_result_rmse.append({'Parameter': 'Gross', 'Strategy': 'evo', 'Alg':'M+D','rmse':mean_squared_error(invers_real['Gross'], invers_pred['Gross'], squared=False)}, ignore_index=True)"
   ]
  },
  {
   "cell_type": "code",
   "execution_count": null,
   "metadata": {},
   "outputs": [],
   "source": [
    "mean_squared_error(invers_real['Netpay'], invers_pred['Netpay'], squared=False)\n",
    "df_result_rmse = df_result_rmse.append({'Parameter': 'Netpay', 'Strategy': 'evo', 'Alg':'M+D','rmse':mean_squared_error(invers_real['Netpay'], invers_pred['Netpay'], squared=False)}, ignore_index=True)"
   ]
  },
  {
   "cell_type": "code",
   "execution_count": null,
   "metadata": {},
   "outputs": [],
   "source": [
    "mean_squared_error(invers_real['Porosity'], invers_pred['Porosity'], squared=False)\n",
    "df_result_rmse = df_result_rmse.append({'Parameter': 'Porosity', 'Strategy': 'evo', 'Alg':'M+D','rmse':mean_squared_error(invers_real['Porosity'], invers_pred['Porosity'], squared=False)}, ignore_index=True)"
   ]
  },
  {
   "cell_type": "code",
   "execution_count": null,
   "metadata": {},
   "outputs": [],
   "source": [
    "mean_squared_error(invers_real['Permeability'], invers_pred['Permeability'], squared=False)\n",
    "df_result_rmse = df_result_rmse = df_result_rmse.append({'Parameter': 'Permeability', 'Strategy': 'evo', 'Alg':'M+D','rmse':mean_squared_error(invers_real['Permeability'], invers_pred['Permeability'], squared=False)}, ignore_index=True)"
   ]
  },
  {
   "cell_type": "code",
   "execution_count": null,
   "metadata": {},
   "outputs": [],
   "source": [
    "mean_squared_error(invers_real['Depth'], invers_pred['Depth'], squared=False)\n",
    "df_result_rmse = df_result_rmse.append({'Parameter': 'Depth', 'Strategy': 'evo', 'Alg':'M+D','rmse':mean_squared_error(invers_real['Depth'], invers_pred['Depth'], squared=False)}, ignore_index=True)"
   ]
  },
  {
   "cell_type": "code",
   "execution_count": null,
   "metadata": {},
   "outputs": [],
   "source": [
    "df_result_accuracy.to_csv('geo_results_disc.csv', index=False)\n",
    "df_result_rmse.to_csv('geo_results_cont.csv', index=False)"
   ]
  },
  {
   "cell_type": "code",
   "execution_count": null,
   "metadata": {},
   "outputs": [],
   "source": []
  }
 ]
}